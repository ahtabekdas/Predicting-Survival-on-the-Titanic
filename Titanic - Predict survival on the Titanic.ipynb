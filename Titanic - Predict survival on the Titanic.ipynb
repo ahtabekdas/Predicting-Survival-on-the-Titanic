{
 "cells": [
  {
   "cell_type": "markdown",
   "id": "1b3bc1a8",
   "metadata": {},
   "source": [
    "# Titanic"
   ]
  },
  {
   "cell_type": "code",
   "execution_count": 2,
   "id": "5bf3af3d",
   "metadata": {},
   "outputs": [],
   "source": [
    "import pandas as pd"
   ]
  },
  {
   "cell_type": "code",
   "execution_count": 3,
   "id": "0566b47a",
   "metadata": {},
   "outputs": [],
   "source": [
    "df1=pd.read_csv('train.csv')"
   ]
  },
  {
   "cell_type": "code",
   "execution_count": 4,
   "id": "84d93611",
   "metadata": {},
   "outputs": [
    {
     "data": {
      "text/html": [
       "<div>\n",
       "<style scoped>\n",
       "    .dataframe tbody tr th:only-of-type {\n",
       "        vertical-align: middle;\n",
       "    }\n",
       "\n",
       "    .dataframe tbody tr th {\n",
       "        vertical-align: top;\n",
       "    }\n",
       "\n",
       "    .dataframe thead th {\n",
       "        text-align: right;\n",
       "    }\n",
       "</style>\n",
       "<table border=\"1\" class=\"dataframe\">\n",
       "  <thead>\n",
       "    <tr style=\"text-align: right;\">\n",
       "      <th></th>\n",
       "      <th>PassengerId</th>\n",
       "      <th>Survived</th>\n",
       "      <th>Pclass</th>\n",
       "      <th>Name</th>\n",
       "      <th>Sex</th>\n",
       "      <th>Age</th>\n",
       "      <th>SibSp</th>\n",
       "      <th>Parch</th>\n",
       "      <th>Ticket</th>\n",
       "      <th>Fare</th>\n",
       "      <th>Cabin</th>\n",
       "      <th>Embarked</th>\n",
       "    </tr>\n",
       "  </thead>\n",
       "  <tbody>\n",
       "    <tr>\n",
       "      <th>0</th>\n",
       "      <td>1</td>\n",
       "      <td>0</td>\n",
       "      <td>3</td>\n",
       "      <td>Braund, Mr. Owen Harris</td>\n",
       "      <td>male</td>\n",
       "      <td>22.0</td>\n",
       "      <td>1</td>\n",
       "      <td>0</td>\n",
       "      <td>A/5 21171</td>\n",
       "      <td>7.2500</td>\n",
       "      <td>NaN</td>\n",
       "      <td>S</td>\n",
       "    </tr>\n",
       "    <tr>\n",
       "      <th>1</th>\n",
       "      <td>2</td>\n",
       "      <td>1</td>\n",
       "      <td>1</td>\n",
       "      <td>Cumings, Mrs. John Bradley (Florence Briggs Th...</td>\n",
       "      <td>female</td>\n",
       "      <td>38.0</td>\n",
       "      <td>1</td>\n",
       "      <td>0</td>\n",
       "      <td>PC 17599</td>\n",
       "      <td>71.2833</td>\n",
       "      <td>C85</td>\n",
       "      <td>C</td>\n",
       "    </tr>\n",
       "    <tr>\n",
       "      <th>2</th>\n",
       "      <td>3</td>\n",
       "      <td>1</td>\n",
       "      <td>3</td>\n",
       "      <td>Heikkinen, Miss. Laina</td>\n",
       "      <td>female</td>\n",
       "      <td>26.0</td>\n",
       "      <td>0</td>\n",
       "      <td>0</td>\n",
       "      <td>STON/O2. 3101282</td>\n",
       "      <td>7.9250</td>\n",
       "      <td>NaN</td>\n",
       "      <td>S</td>\n",
       "    </tr>\n",
       "    <tr>\n",
       "      <th>3</th>\n",
       "      <td>4</td>\n",
       "      <td>1</td>\n",
       "      <td>1</td>\n",
       "      <td>Futrelle, Mrs. Jacques Heath (Lily May Peel)</td>\n",
       "      <td>female</td>\n",
       "      <td>35.0</td>\n",
       "      <td>1</td>\n",
       "      <td>0</td>\n",
       "      <td>113803</td>\n",
       "      <td>53.1000</td>\n",
       "      <td>C123</td>\n",
       "      <td>S</td>\n",
       "    </tr>\n",
       "    <tr>\n",
       "      <th>4</th>\n",
       "      <td>5</td>\n",
       "      <td>0</td>\n",
       "      <td>3</td>\n",
       "      <td>Allen, Mr. William Henry</td>\n",
       "      <td>male</td>\n",
       "      <td>35.0</td>\n",
       "      <td>0</td>\n",
       "      <td>0</td>\n",
       "      <td>373450</td>\n",
       "      <td>8.0500</td>\n",
       "      <td>NaN</td>\n",
       "      <td>S</td>\n",
       "    </tr>\n",
       "  </tbody>\n",
       "</table>\n",
       "</div>"
      ],
      "text/plain": [
       "   PassengerId  Survived  Pclass  \\\n",
       "0            1         0       3   \n",
       "1            2         1       1   \n",
       "2            3         1       3   \n",
       "3            4         1       1   \n",
       "4            5         0       3   \n",
       "\n",
       "                                                Name     Sex   Age  SibSp  \\\n",
       "0                            Braund, Mr. Owen Harris    male  22.0      1   \n",
       "1  Cumings, Mrs. John Bradley (Florence Briggs Th...  female  38.0      1   \n",
       "2                             Heikkinen, Miss. Laina  female  26.0      0   \n",
       "3       Futrelle, Mrs. Jacques Heath (Lily May Peel)  female  35.0      1   \n",
       "4                           Allen, Mr. William Henry    male  35.0      0   \n",
       "\n",
       "   Parch            Ticket     Fare Cabin Embarked  \n",
       "0      0         A/5 21171   7.2500   NaN        S  \n",
       "1      0          PC 17599  71.2833   C85        C  \n",
       "2      0  STON/O2. 3101282   7.9250   NaN        S  \n",
       "3      0            113803  53.1000  C123        S  \n",
       "4      0            373450   8.0500   NaN        S  "
      ]
     },
     "execution_count": 4,
     "metadata": {},
     "output_type": "execute_result"
    }
   ],
   "source": [
    "df1.head()"
   ]
  },
  {
   "cell_type": "code",
   "execution_count": 5,
   "id": "b1a2939b",
   "metadata": {},
   "outputs": [
    {
     "data": {
      "text/plain": [
       "(891, 12)"
      ]
     },
     "execution_count": 5,
     "metadata": {},
     "output_type": "execute_result"
    }
   ],
   "source": [
    "df1.shape"
   ]
  },
  {
   "cell_type": "code",
   "execution_count": 6,
   "id": "24ad1f97",
   "metadata": {},
   "outputs": [],
   "source": [
    "df2=pd.read_csv('test.csv')"
   ]
  },
  {
   "cell_type": "code",
   "execution_count": 7,
   "id": "80a360fd",
   "metadata": {
    "collapsed": true
   },
   "outputs": [
    {
     "data": {
      "text/html": [
       "<div>\n",
       "<style scoped>\n",
       "    .dataframe tbody tr th:only-of-type {\n",
       "        vertical-align: middle;\n",
       "    }\n",
       "\n",
       "    .dataframe tbody tr th {\n",
       "        vertical-align: top;\n",
       "    }\n",
       "\n",
       "    .dataframe thead th {\n",
       "        text-align: right;\n",
       "    }\n",
       "</style>\n",
       "<table border=\"1\" class=\"dataframe\">\n",
       "  <thead>\n",
       "    <tr style=\"text-align: right;\">\n",
       "      <th></th>\n",
       "      <th>PassengerId</th>\n",
       "      <th>Pclass</th>\n",
       "      <th>Name</th>\n",
       "      <th>Sex</th>\n",
       "      <th>Age</th>\n",
       "      <th>SibSp</th>\n",
       "      <th>Parch</th>\n",
       "      <th>Ticket</th>\n",
       "      <th>Fare</th>\n",
       "      <th>Cabin</th>\n",
       "      <th>Embarked</th>\n",
       "    </tr>\n",
       "  </thead>\n",
       "  <tbody>\n",
       "    <tr>\n",
       "      <th>0</th>\n",
       "      <td>892</td>\n",
       "      <td>3</td>\n",
       "      <td>Kelly, Mr. James</td>\n",
       "      <td>male</td>\n",
       "      <td>34.5</td>\n",
       "      <td>0</td>\n",
       "      <td>0</td>\n",
       "      <td>330911</td>\n",
       "      <td>7.8292</td>\n",
       "      <td>NaN</td>\n",
       "      <td>Q</td>\n",
       "    </tr>\n",
       "    <tr>\n",
       "      <th>1</th>\n",
       "      <td>893</td>\n",
       "      <td>3</td>\n",
       "      <td>Wilkes, Mrs. James (Ellen Needs)</td>\n",
       "      <td>female</td>\n",
       "      <td>47.0</td>\n",
       "      <td>1</td>\n",
       "      <td>0</td>\n",
       "      <td>363272</td>\n",
       "      <td>7.0000</td>\n",
       "      <td>NaN</td>\n",
       "      <td>S</td>\n",
       "    </tr>\n",
       "    <tr>\n",
       "      <th>2</th>\n",
       "      <td>894</td>\n",
       "      <td>2</td>\n",
       "      <td>Myles, Mr. Thomas Francis</td>\n",
       "      <td>male</td>\n",
       "      <td>62.0</td>\n",
       "      <td>0</td>\n",
       "      <td>0</td>\n",
       "      <td>240276</td>\n",
       "      <td>9.6875</td>\n",
       "      <td>NaN</td>\n",
       "      <td>Q</td>\n",
       "    </tr>\n",
       "    <tr>\n",
       "      <th>3</th>\n",
       "      <td>895</td>\n",
       "      <td>3</td>\n",
       "      <td>Wirz, Mr. Albert</td>\n",
       "      <td>male</td>\n",
       "      <td>27.0</td>\n",
       "      <td>0</td>\n",
       "      <td>0</td>\n",
       "      <td>315154</td>\n",
       "      <td>8.6625</td>\n",
       "      <td>NaN</td>\n",
       "      <td>S</td>\n",
       "    </tr>\n",
       "    <tr>\n",
       "      <th>4</th>\n",
       "      <td>896</td>\n",
       "      <td>3</td>\n",
       "      <td>Hirvonen, Mrs. Alexander (Helga E Lindqvist)</td>\n",
       "      <td>female</td>\n",
       "      <td>22.0</td>\n",
       "      <td>1</td>\n",
       "      <td>1</td>\n",
       "      <td>3101298</td>\n",
       "      <td>12.2875</td>\n",
       "      <td>NaN</td>\n",
       "      <td>S</td>\n",
       "    </tr>\n",
       "  </tbody>\n",
       "</table>\n",
       "</div>"
      ],
      "text/plain": [
       "   PassengerId  Pclass                                          Name     Sex  \\\n",
       "0          892       3                              Kelly, Mr. James    male   \n",
       "1          893       3              Wilkes, Mrs. James (Ellen Needs)  female   \n",
       "2          894       2                     Myles, Mr. Thomas Francis    male   \n",
       "3          895       3                              Wirz, Mr. Albert    male   \n",
       "4          896       3  Hirvonen, Mrs. Alexander (Helga E Lindqvist)  female   \n",
       "\n",
       "    Age  SibSp  Parch   Ticket     Fare Cabin Embarked  \n",
       "0  34.5      0      0   330911   7.8292   NaN        Q  \n",
       "1  47.0      1      0   363272   7.0000   NaN        S  \n",
       "2  62.0      0      0   240276   9.6875   NaN        Q  \n",
       "3  27.0      0      0   315154   8.6625   NaN        S  \n",
       "4  22.0      1      1  3101298  12.2875   NaN        S  "
      ]
     },
     "execution_count": 7,
     "metadata": {},
     "output_type": "execute_result"
    }
   ],
   "source": [
    "df2.head()"
   ]
  },
  {
   "cell_type": "code",
   "execution_count": 8,
   "id": "1cc23188",
   "metadata": {},
   "outputs": [
    {
     "data": {
      "text/plain": [
       "(418, 11)"
      ]
     },
     "execution_count": 8,
     "metadata": {},
     "output_type": "execute_result"
    }
   ],
   "source": [
    "df2.shape"
   ]
  },
  {
   "cell_type": "code",
   "execution_count": 9,
   "id": "297001c9",
   "metadata": {},
   "outputs": [],
   "source": [
    "#DRY - Do not repeat yourself"
   ]
  },
  {
   "cell_type": "code",
   "execution_count": 10,
   "id": "b5a017d9",
   "metadata": {},
   "outputs": [],
   "source": [
    "#df=df1.append(df2)"
   ]
  },
  {
   "cell_type": "code",
   "execution_count": 11,
   "id": "8ce220ba",
   "metadata": {},
   "outputs": [],
   "source": [
    "df=pd.concat([df1,df2])#İki veriyi birleştirme"
   ]
  },
  {
   "cell_type": "code",
   "execution_count": 12,
   "id": "f62da895",
   "metadata": {},
   "outputs": [
    {
     "data": {
      "text/plain": [
       "(1309, 12)"
      ]
     },
     "execution_count": 12,
     "metadata": {},
     "output_type": "execute_result"
    }
   ],
   "source": [
    "df.shape"
   ]
  },
  {
   "cell_type": "code",
   "execution_count": 13,
   "id": "d8da4dd4",
   "metadata": {},
   "outputs": [
    {
     "name": "stdout",
     "output_type": "stream",
     "text": [
      "<class 'pandas.core.frame.DataFrame'>\n",
      "Int64Index: 1309 entries, 0 to 417\n",
      "Data columns (total 12 columns):\n",
      " #   Column       Non-Null Count  Dtype  \n",
      "---  ------       --------------  -----  \n",
      " 0   PassengerId  1309 non-null   int64  \n",
      " 1   Survived     891 non-null    float64\n",
      " 2   Pclass       1309 non-null   int64  \n",
      " 3   Name         1309 non-null   object \n",
      " 4   Sex          1309 non-null   object \n",
      " 5   Age          1046 non-null   float64\n",
      " 6   SibSp        1309 non-null   int64  \n",
      " 7   Parch        1309 non-null   int64  \n",
      " 8   Ticket       1309 non-null   object \n",
      " 9   Fare         1308 non-null   float64\n",
      " 10  Cabin        295 non-null    object \n",
      " 11  Embarked     1307 non-null   object \n",
      "dtypes: float64(3), int64(4), object(5)\n",
      "memory usage: 132.9+ KB\n"
     ]
    }
   ],
   "source": [
    "df.info()"
   ]
  },
  {
   "cell_type": "code",
   "execution_count": 14,
   "id": "5e4e1abd",
   "metadata": {},
   "outputs": [],
   "source": [
    "# Missing Value Amputation - Bos verileri doldurma\n",
    "# Data Munging"
   ]
  },
  {
   "cell_type": "code",
   "execution_count": 15,
   "id": "1b3c23a1",
   "metadata": {},
   "outputs": [
    {
     "data": {
      "text/plain": [
       "PassengerId       0\n",
       "Survived        418\n",
       "Pclass            0\n",
       "Name              0\n",
       "Sex               0\n",
       "Age             263\n",
       "SibSp             0\n",
       "Parch             0\n",
       "Ticket            0\n",
       "Fare              1\n",
       "Cabin          1014\n",
       "Embarked          2\n",
       "dtype: int64"
      ]
     },
     "execution_count": 15,
     "metadata": {},
     "output_type": "execute_result"
    }
   ],
   "source": [
    "df.isnull().sum()"
   ]
  },
  {
   "cell_type": "raw",
   "id": "d4dff04e",
   "metadata": {},
   "source": [
    "Bos verileri doldurmak icin stratejiler\n",
    "1-Mean - ortalama\n",
    "2-Median Orta deger\n",
    "3-En yakin komsu\n",
    "4-Regression\n",
    "5-Forward\n",
    "6-Backward\n",
    "7-WEKA Simple value imputation"
   ]
  },
  {
   "cell_type": "code",
   "execution_count": 16,
   "id": "f9fc3d11",
   "metadata": {},
   "outputs": [
    {
     "data": {
      "text/plain": [
       "(33.29547928134557, 512.3292, 0.0, 14.4542, 51.75866823917414)"
      ]
     },
     "execution_count": 16,
     "metadata": {},
     "output_type": "execute_result"
    }
   ],
   "source": [
    "df['Fare'].mean(),df['Fare'].max(),df['Fare'].min(),df['Fare'].median(),df['Fare'].std()"
   ]
  },
  {
   "cell_type": "code",
   "execution_count": 17,
   "id": "188ad4f6",
   "metadata": {},
   "outputs": [],
   "source": [
    "df['Fare']=df['Fare'].fillna(df['Fare'].mean()) # fillna bosluklari doldurur"
   ]
  },
  {
   "cell_type": "code",
   "execution_count": 18,
   "id": "209f3541",
   "metadata": {},
   "outputs": [
    {
     "data": {
      "text/plain": [
       "PassengerId       0\n",
       "Survived        418\n",
       "Pclass            0\n",
       "Name              0\n",
       "Sex               0\n",
       "Age             263\n",
       "SibSp             0\n",
       "Parch             0\n",
       "Ticket            0\n",
       "Fare              0\n",
       "Cabin          1014\n",
       "Embarked          2\n",
       "dtype: int64"
      ]
     },
     "execution_count": 18,
     "metadata": {},
     "output_type": "execute_result"
    }
   ],
   "source": [
    "df.isnull().sum()"
   ]
  },
  {
   "cell_type": "code",
   "execution_count": 19,
   "id": "28826846",
   "metadata": {},
   "outputs": [],
   "source": [
    "import seaborn as sns"
   ]
  },
  {
   "cell_type": "code",
   "execution_count": 25,
   "id": "a88d8428",
   "metadata": {},
   "outputs": [
    {
     "data": {
      "text/plain": [
       "<Axes: xlabel='Embarked', ylabel='count'>"
      ]
     },
     "execution_count": 25,
     "metadata": {},
     "output_type": "execute_result"
    },
    {
     "data": {
      "image/png": "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",
      "text/plain": [
       "<Figure size 640x480 with 1 Axes>"
      ]
     },
     "metadata": {},
     "output_type": "display_data"
    }
   ],
   "source": [
    "sns.countplot(x=df['Embarked'])"
   ]
  },
  {
   "cell_type": "code",
   "execution_count": 26,
   "id": "0a2eeca4",
   "metadata": {},
   "outputs": [
    {
     "data": {
      "text/plain": [
       "0    S\n",
       "Name: Embarked, dtype: object"
      ]
     },
     "execution_count": 26,
     "metadata": {},
     "output_type": "execute_result"
    }
   ],
   "source": [
    "df['Embarked'].mode()"
   ]
  },
  {
   "cell_type": "code",
   "execution_count": 27,
   "id": "daece786",
   "metadata": {},
   "outputs": [],
   "source": [
    "df['Embarked']=df['Embarked'].fillna('S')"
   ]
  },
  {
   "cell_type": "code",
   "execution_count": 28,
   "id": "0a2e7efe",
   "metadata": {},
   "outputs": [
    {
     "data": {
      "text/plain": [
       "<Axes: xlabel='Embarked', ylabel='count'>"
      ]
     },
     "execution_count": 28,
     "metadata": {},
     "output_type": "execute_result"
    },
    {
     "data": {
      "image/png": "iVBORw0KGgoAAAANSUhEUgAAAjsAAAGwCAYAAABPSaTdAAAAOXRFWHRTb2Z0d2FyZQBNYXRwbG90bGliIHZlcnNpb24zLjcuMSwgaHR0cHM6Ly9tYXRwbG90bGliLm9yZy/bCgiHAAAACXBIWXMAAA9hAAAPYQGoP6dpAAA2aUlEQVR4nO3de3QU9f3/8deSyxJCspCEZJMSaPyCFUykNrEQWuQeCHJR+AoWqnBEDxYEY0D8BVpIrRJFudRS0VogXBvaL43VrzQSxEQpcAqRlIuoaIOEmjUKuRCImxDm94dftl0TEEPCLMPzcc6cMp/5zOx7puvZ1/nMZyY2wzAMAQAAWFQbswsAAABoTYQdAABgaYQdAABgaYQdAABgaYQdAABgaYQdAABgaYQdAABgaf5mF+ALzp8/r08//VQhISGy2WxmlwMAAC6DYRg6ffq0YmJi1KbNxcdvCDuSPv30U8XGxppdBgAAaIbS0lJ17tz5otsJO5JCQkIkfXWxQkNDTa4GAABcjurqasXGxnp+xy+GsCN5bl2FhoYSdgAAuMZ80xQUJigDAABLI+wAAABLI+wAAABLY84OAAA+oqGhQfX19WaX4TMCAgLk5+d3xcch7AAAYDLDMORyuVRZWWl2KT6nQ4cOcjqdV/QePMIOAAAmuxB0IiMj1a5dO15wq68C4NmzZ1VeXi5Jio6ObvaxCDsAAJiooaHBE3TCw8PNLsenBAUFSZLKy8sVGRnZ7FtaTFAGAMBEF+botGvXzuRKfNOF63Ilc5kIOwAA+ABuXTWtJa4LYQcAAFgaYQcAAFgaYQcAADRSUFAgm83W6o/DT5kyRXfeeWerfgZhBwAAH1ZeXq5p06apS5custvtcjqdGjZsmHbv3t2qn9u3b1+VlZXJ4XC06udcDTx6DgCADxs3bpzq6+u1du1a3XDDDfrss8/05ptv6tSpU806nmEYamhokL//pSNAYGCgnE5nsz7D1zCyAwCAj6qsrNTOnTv1zDPPaODAgeratat++MMfKiMjQ3fccYeOHTsmm82m4uJir31sNpsKCgok/ft21BtvvKGkpCTZ7XatWrVKNptN77//vtfnLV26VN/97ndlGIbXbayqqioFBQUpLy/Pq/+f//xnBQcHq6amRpL0r3/9SxMmTFDHjh0VHh6uMWPG6NixY57+DQ0NSk9PV4cOHRQeHq65c+fKMIxWuXb/iZGdFpL42DqzS/AZRc/eZ3YJAGAJ7du3V/v27fXKK6+oT58+stvtzT7W3Llz9dxzz+mGG25Qhw4d9PLLL2vjxo361a9+5emzadMmTZw4sdHj3g6HQ3fccYc2btyo4cOHe/UfM2aM2rdvr7Nnz2rgwIHq16+f3n77bfn7++vJJ5/U8OHDdeDAAQUGBmrJkiVavXq1Vq1apZ49e2rJkiXKzc3VoEGDmn1el4ORHQAAfJS/v7+ys7O1du1adejQQT/60Y80b948HThw4Fsf64knntDQoUP1X//1XwoPD9ekSZO0adMmz/YPP/xQRUVF+ulPf9rk/pMmTdIrr7yis2fPSpKqq6v1+uuve/rn5OSoTZs2+v3vf6+EhAT16NFDa9as0fHjxz2jTMuXL1dGRobGjRunHj166MUXX7wqc4IIOwAA+LBx48bp008/1auvvqphw4apoKBAP/jBD5Sdnf2tjpOUlOS1fs899+iTTz7Rnj17JEkbN27U97//ffXs2bPJ/e+44w75+/vr1VdflSRt2bJFISEhSklJkSQVFRXpo48+UkhIiGdEKiwsTF9++aU+/vhjVVVVqaysTMnJyZ5j+vv7N6qrNRB2AADwcW3bttXQoUO1YMEC7dq1S1OmTNHChQvVps1XP+P/Oe/lYn9WITg42Gs9OjpaAwcO9Izu/OEPf7joqI701YTl//7v//b037RpkyZMmOCZ6Hz+/HklJiaquLjYa/nwww81ceLE5p98CyDsAABwjenZs6fOnDmjTp06SZLKyso82/5zsvI3mTRpkjZv3qzdu3fr448/1j333PON/fPy8nT48GG99dZbmjRpkmfbD37wAx09elSRkZHq1q2b1+JwOORwOBQdHe0ZSZKkc+fOqaio6LLrbS7CDgAAPurkyZMaNGiQNmzYoAMHDqikpER/+tOftHjxYo0ZM0ZBQUHq06ePnn76ab333nt6++239fOf//yyjz927FhVV1frZz/7mQYOHKjvfOc7l+zfv39/RUVFadKkSfrud7+rPn36eLZNmjRJERERGjNmjN555x2VlJSosLBQjzzyiE6cOCFJeuSRR/T0008rNzdX77//vqZPn97qLy2UCDsAAPis9u3bq3fv3lq2bJluv/12xcfH6xe/+IUefPBBrVixQpK0evVq1dfXKykpSY888oiefPLJyz5+aGioRo0apX/84x9eozQXY7PZ9JOf/KTJ/u3atdPbb7+tLl26aOzYserRo4fuv/9+1dbWKjQ0VJI0e/Zs3XfffZoyZYqSk5MVEhKiu+6661tckeaxGVfjAXcfV11dLYfDoaqqKs//Id8Wj57/G4+eA8Dl+/LLL1VSUqK4uDi1bdvW7HJ8zqWuz+X+fjOyAwAALI2wAwAALI2wAwAALI2wAwAALI2wAwAALI2wAwAALI2wAwAALI2wAwAALI2wAwAALM3f7AIAAEBjV/vN/M19+/0LL7ygZ599VmVlZbr55pu1fPly9evX76L9CwsLlZ6ersOHDysmJkZz587VQw891NyyL4vPjOxkZWXJZrMpLS3N02YYhjIzMxUTE6OgoCANGDBAhw8f9trP7XZr5syZioiIUHBwsEaPHu35g2MAAKD1bN68WWlpaZo/f77279+vfv36KTU1VcePH2+yf0lJiUaMGKF+/fpp//79mjdvnmbNmqUtW7a0ap0+EXb27t2r3/3ud7rlllu82hcvXqylS5dqxYoV2rt3r5xOp4YOHarTp097+qSlpSk3N1c5OTnauXOnampqNHLkSDU0NFzt0wAA4LqydOlSTZ06VQ888IB69Oih5cuXKzY2VitXrmyy/4svvqguXbpo+fLl6tGjhx544AHdf//9eu6551q1TtPDTk1NjSZNmqSXX35ZHTt29LQbhqHly5dr/vz5Gjt2rOLj47V27VqdPXtWmzZtkiRVVVVp1apVWrJkiYYMGaJbb71VGzZs0MGDB7V9+3azTgkAAMurq6tTUVGRUlJSvNpTUlK0a9euJvfZvXt3o/7Dhg3Tvn37VF9f32q1mh52ZsyYoTvuuENDhgzxai8pKZHL5fK6KHa7Xf379/dcxKKiItXX13v1iYmJUXx8/EUvtPTVra/q6mqvBQAAXL4vvvhCDQ0NioqK8mqPioqSy+Vqch+Xy9Vk/3PnzumLL75otVpNnaCck5Ojd999V3v37m207cKFauqifPLJJ54+gYGBXiNCF/pc7EJLX80P+uUvf3ml5QMAcN2z2Wxe64ZhNGr7pv5Ntbck00Z2SktL9cgjj2jDhg1q27btRft924t4OX0yMjJUVVXlWUpLS79d8QAAXOciIiLk5+fXaHChvLy80UDFBU6ns8n+/v7+Cg8Pb7VaTQs7RUVFKi8vV2Jiovz9/eXv76/CwkI9//zz8vf391yoS11Ep9Opuro6VVRUXLRPU+x2u0JDQ70WAABw+QIDA5WYmKj8/Hyv9vz8fPXt27fJfZKTkxv137Ztm5KSkhQQENBqtZoWdgYPHqyDBw+quLjYsyQlJWnSpEkqLi7WDTfcIKfT6XVR6urqVFhY6LmIiYmJCggI8OpTVlamQ4cOXfRCAwCAlpGenq7f//73Wr16tY4cOaJHH31Ux48f97w3JyMjQ/fd9+/39zz00EP65JNPlJ6eriNHjmj16tVatWqV5syZ06p1mjZnJyQkRPHx8V5twcHBCg8P97SnpaVp0aJF6t69u7p3765FixapXbt2mjhxoiTJ4XBo6tSpmj17tsLDwxUWFqY5c+YoISGh0YRnAADQsiZMmKCTJ0/qiSeeUFlZmeLj47V161Z17dpV0lcDEP/5zp24uDht3bpVjz76qH77298qJiZGzz//vMaNG9eqdfr0G5Tnzp2r2tpaTZ8+XRUVFerdu7e2bdumkJAQT59ly5bJ399f48ePV21trQYPHqzs7Gz5+fmZWDkAAFemuW80vtqmT5+u6dOnN7ktOzu7UVv//v317rvvtnJV3mzGhWnQ17Hq6mo5HA5VVVU1e/7O1X6tty+7Vv4DBQBf8OWXX6qkpERxcXGXfGDnenWp63O5v9+mv2cHAACgNRF2AACApRF2AACApRF2AACApRF2AACApRF2AACApRF2AACApRF2AACApRF2AACApfn0n4sAAOB6dfyJhKv6eV0WHPzW+7z99tt69tlnVVRUpLKyMuXm5urOO++85D6FhYVKT0/X4cOHFRMTo7lz53r+cGhrYWQHAAA0y5kzZ9SrVy+tWLHisvqXlJRoxIgR6tevn/bv36958+Zp1qxZ2rJlS6vWycgOAABoltTUVKWmpl52/xdffFFdunTR8uXLJUk9evTQvn379Nxzz7XqXz5nZAcAAFwVu3fvVkpKilfbsGHDtG/fPtXX17fa5xJ2AADAVeFyuRQVFeXVFhUVpXPnzumLL75otc8l7AAAgKvGZrN5rRuG0WR7SyLsAACAq8LpdMrlcnm1lZeXy9/fX+Hh4a32uYQdAABwVSQnJys/P9+rbdu2bUpKSlJAQECrfS5hBwAANEtNTY2Ki4tVXFws6atHy4uLi3X8+HFJUkZGhu677z5P/4ceekiffPKJ0tPTdeTIEa1evVqrVq3SnDlzWrVOHj0HAADNsm/fPg0cONCznp6eLkmaPHmysrOzVVZW5gk+khQXF6etW7fq0Ucf1W9/+1vFxMTo+eefb9XHziXCDgAAPqk5bzS+2gYMGOCZYNyU7OzsRm39+/fXu+++24pVNcZtLAAAYGmEHQAAYGmEHQAAYGmEHQAAYGmEHQAAfMClJvpez1riuhB2AAAw0YWX6Z09e9bkSnzThetyJS8d5NFzAABM5Ofnpw4dOqi8vFyS1K5du1b9O1HXCsMwdPbsWZWXl6tDhw7y8/Nr9rEIOwAAmMzpdEqSJ/Dg3zp06OC5Ps1F2AEAwGQ2m03R0dGKjIxUfX292eX4jICAgCsa0bmAsAMAgI/w8/NrkR93eGOCMgAAsDRTw87KlSt1yy23KDQ0VKGhoUpOTtZf//pXz/YpU6bIZrN5LX369PE6htvt1syZMxUREaHg4GCNHj1aJ06cuNqnAgAAfJSpYadz5856+umntW/fPu3bt0+DBg3SmDFjdPjwYU+f4cOHq6yszLNs3brV6xhpaWnKzc1VTk6Odu7cqZqaGo0cOVINDQ1X+3QAAIAPMnXOzqhRo7zWn3rqKa1cuVJ79uzRzTffLEmy2+0XnYVdVVWlVatWaf369RoyZIgkacOGDYqNjdX27ds1bNiwJvdzu91yu92e9erq6pY4HQAA4IN8Zs5OQ0ODcnJydObMGSUnJ3vaCwoKFBkZqRtvvFEPPvig12N5RUVFqq+vV0pKiqctJiZG8fHx2rVr10U/KysrSw6Hw7PExsa2zkkBAADTmR52Dh48qPbt28tut+uhhx5Sbm6uevbsKUlKTU3Vxo0btWPHDi1ZskR79+7VoEGDPKMyLpdLgYGB6tixo9cxo6Ki5HK5LvqZGRkZqqqq8iylpaWtd4IAAMBUpj96/r3vfU/FxcWqrKzUli1bNHnyZBUWFqpnz56aMGGCp198fLySkpLUtWtXvf766xo7duxFj2kYxiXfPmm322W321v0PAAAgG8yfWQnMDBQ3bp1U1JSkrKystSrVy/9+te/brJvdHS0unbtqqNHj0r66o2TdXV1qqio8OpXXl6uqKioVq8dAAD4PtPDztcZhuE1efg/nTx5UqWlpYqOjpYkJSYmKiAgQPn5+Z4+ZWVlOnTokPr27XtV6gUAAL7N1NtY8+bNU2pqqmJjY3X69Gnl5OSooKBAeXl5qqmpUWZmpsaNG6fo6GgdO3ZM8+bNU0REhO666y5JksPh0NSpUzV79myFh4crLCxMc+bMUUJCgufpLAAAcH0zNex89tlnuvfee1VWViaHw6FbbrlFeXl5Gjp0qGpra3Xw4EGtW7dOlZWVio6O1sCBA7V582aFhIR4jrFs2TL5+/tr/Pjxqq2t1eDBg5Wdnc3rtgEAgCTJZhiGYXYRZquurpbD4VBVVZVCQ0ObdYzEx9a1cFXXrqJn7zO7BADAdeByf799bs4OAABASyLsAAAASyPsAAAASyPsAAAASyPsAAAASyPsAAAASyPsAAAASyPsAAAASyPsAAAASyPsAAAASyPsAAAASyPsAAAASyPsAAAASyPsAAAASyPsAAAASyPsAAAASyPsAAAASyPsAAAASyPsAAAASyPsAAAASyPsAAAASyPsAAAASyPsAAAASyPsAAAASyPsAAAASyPsAAAASyPsAAAASyPsAAAASyPsAAAASyPsAAAASzM17KxcuVK33HKLQkNDFRoaquTkZP31r3/1bDcMQ5mZmYqJiVFQUJAGDBigw4cPex3D7XZr5syZioiIUHBwsEaPHq0TJ05c7VMBAAA+ytSw07lzZz399NPat2+f9u3bp0GDBmnMmDGeQLN48WItXbpUK1as0N69e+V0OjV06FCdPn3ac4y0tDTl5uYqJydHO3fuVE1NjUaOHKmGhgazTgsAAPgQm2EYhtlF/KewsDA9++yzuv/++xUTE6O0tDQ9/vjjkr4axYmKitIzzzyjadOmqaqqSp06ddL69es1YcIESdKnn36q2NhYbd26VcOGDWvyM9xut9xut2e9urpasbGxqqqqUmhoaLPqTnxsXbP2s6KiZ+8zuwQAwHWgurpaDofjG3+/fWbOTkNDg3JycnTmzBklJyerpKRELpdLKSkpnj52u139+/fXrl27JElFRUWqr6/36hMTE6P4+HhPn6ZkZWXJ4XB4ltjY2NY7MQAAYCrTw87BgwfVvn172e12PfTQQ8rNzVXPnj3lcrkkSVFRUV79o6KiPNtcLpcCAwPVsWPHi/ZpSkZGhqqqqjxLaWlpC58VAADwFf5mF/C9731PxcXFqqys1JYtWzR58mQVFhZ6tttsNq/+hmE0avu6b+pjt9tlt9uvrHAAAHBNMH1kJzAwUN26dVNSUpKysrLUq1cv/frXv5bT6ZSkRiM05eXlntEep9Opuro6VVRUXLQPAAC4vpkedr7OMAy53W7FxcXJ6XQqPz/fs62urk6FhYXq27evJCkxMVEBAQFefcrKynTo0CFPHwAAcH0z9TbWvHnzlJqaqtjYWJ0+fVo5OTkqKChQXl6ebDab0tLStGjRInXv3l3du3fXokWL1K5dO02cOFGS5HA4NHXqVM2ePVvh4eEKCwvTnDlzlJCQoCFDhph5agAAwEeYGnY+++wz3XvvvSorK5PD4dAtt9yivLw8DR06VJI0d+5c1dbWavr06aqoqFDv3r21bds2hYSEeI6xbNky+fv7a/z48aqtrdXgwYOVnZ0tPz8/s04LAAD4EJ97z44ZLvc5/UvhPTv/xnt2AABXwzX3nh0AAIDWQNgBAACWRtgBAACWRtgBAACWRtgBAACWRtgBAACWRtgBAACWRtgBAACWRtgBAACWRtgBAACWRtgBAACWRtgBAACWRtgBAACWRtgBAACWRtgBAACWRtgBAACWRtgBAACWRtgBAACWRtgBAACWRtgBAACWRtgBAACWRtgBAACWRtgBAACWRtgBAACWRtgBAACWRtgBAACWRtgBAACWRtgBAACWRtgBAACWRtgBAACWZmrYycrK0m233aaQkBBFRkbqzjvv1AcffODVZ8qUKbLZbF5Lnz59vPq43W7NnDlTERERCg4O1ujRo3XixImreSoAAMBHmRp2CgsLNWPGDO3Zs0f5+fk6d+6cUlJSdObMGa9+w4cPV1lZmWfZunWr1/a0tDTl5uYqJydHO3fuVE1NjUaOHKmGhoareToAAMAH+Zv54Xl5eV7ra9asUWRkpIqKinT77bd72u12u5xOZ5PHqKqq0qpVq7R+/XoNGTJEkrRhwwbFxsZq+/btGjZsWOudAAAA8Hk+NWenqqpKkhQWFubVXlBQoMjISN1444168MEHVV5e7tlWVFSk+vp6paSkeNpiYmIUHx+vXbt2Nfk5brdb1dXVXgsAALAmnwk7hmEoPT1dP/7xjxUfH+9pT01N1caNG7Vjxw4tWbJEe/fu1aBBg+R2uyVJLpdLgYGB6tixo9fxoqKi5HK5mvysrKwsORwOzxIbG9t6JwYAAExl6m2s//Twww/rwIED2rlzp1f7hAkTPP+Oj49XUlKSunbtqtdff11jx4696PEMw5DNZmtyW0ZGhtLT0z3r1dXVBB4AACzKJ0Z2Zs6cqVdffVVvvfWWOnfufMm+0dHR6tq1q44ePSpJcjqdqqurU0VFhVe/8vJyRUVFNXkMu92u0NBQrwUAAFiTqWHHMAw9/PDD+vOf/6wdO3YoLi7uG/c5efKkSktLFR0dLUlKTExUQECA8vPzPX3Kysp06NAh9e3bt9VqBwAA14ZmhZ1BgwapsrKyUXt1dbUGDRp02ceZMWOGNmzYoE2bNikkJEQul0sul0u1tbWSpJqaGs2ZM0e7d+/WsWPHVFBQoFGjRikiIkJ33XWXJMnhcGjq1KmaPXu23nzzTe3fv18//elPlZCQ4Hk6CwAAXL+aNWenoKBAdXV1jdq//PJLvfPOO5d9nJUrV0qSBgwY4NW+Zs0aTZkyRX5+fjp48KDWrVunyspKRUdHa+DAgdq8ebNCQkI8/ZctWyZ/f3+NHz9etbW1Gjx4sLKzs+Xn59ec0wMAABbyrcLOgQMHPP9+7733vJ52amhoUF5enr7zne9c9vEMw7jk9qCgIL3xxhvfeJy2bdvqN7/5jX7zm99c9mcDAIDrw7cKO9///vc9f7KhqdtVQUFBBA4AAOBTvlXYKSkpkWEYuuGGG/T3v/9dnTp18mwLDAxUZGQkt44AAIBP+VZhp2vXrpKk8+fPt0oxAAAALa3ZLxX88MMPVVBQoPLy8kbhZ8GCBVdcGAAAQEtoVth5+eWX9bOf/UwRERFyOp1ebyq22WyEHQAA4DOaFXaefPJJPfXUU3r88cdbuh4AAIAW1ayXClZUVOjuu+9u6VoAAABaXLPCzt13361t27a1dC0AAAAtrlm3sbp166Zf/OIX2rNnjxISEhQQEOC1fdasWS1SHAAAwJVqVtj53e9+p/bt26uwsFCFhYVe22w2G2EHAAD4jGaFnZKSkpauAwAAoFU0a84OAADAtaJZIzv333//JbevXr26WcUAAAC0tGaFnYqKCq/1+vp6HTp0SJWVlU3+gVAAAACzNCvs5ObmNmo7f/68pk+frhtuuOGKiwIAAGgpLTZnp02bNnr00Ue1bNmyljokAADAFWvRCcoff/yxzp0715KHBAAAuCLNuo2Vnp7utW4YhsrKyvT6669r8uTJLVIYAABAS2hW2Nm/f7/Xeps2bdSpUyctWbLkG5/UgvUdfyLB7BJ8QpcFB80uAQCgZoadt956q6XrAAAAaBXNCjsXfP755/rggw9ks9l04403qlOnTi1VFwAAQIto1gTlM2fO6P7771d0dLRuv/129evXTzExMZo6darOnj3b0jUCAAA0W7PCTnp6ugoLC/Xaa6+psrJSlZWV+stf/qLCwkLNnj27pWsEAABotmbdxtqyZYv+53/+RwMGDPC0jRgxQkFBQRo/frxWrlzZUvUBAABckWaN7Jw9e1ZRUVGN2iMjI7mNBQAAfEqzwk5ycrIWLlyoL7/80tNWW1urX/7yl0pOTm6x4gAAAK5Us25jLV++XKmpqercubN69eolm82m4uJi2e12bdu2raVrBAAAaLZmhZ2EhAQdPXpUGzZs0Pvvvy/DMHTPPfdo0qRJCgoKaukaAQAAmq1ZYScrK0tRUVF68MEHvdpXr16tzz//XI8//niLFAcAAHClmjVn56WXXtJNN93UqP3mm2/Wiy++eMVFAQAAtJRmhR2Xy6Xo6OhG7Z06dVJZWdllHycrK0u33XabQkJCFBkZqTvvvFMffPCBVx/DMJSZmamYmBgFBQVpwIABOnz4sFcft9utmTNnKiIiQsHBwRo9erROnDjRnFMDAAAW06ywExsbq7/97W+N2v/2t78pJibmso9TWFioGTNmaM+ePcrPz9e5c+eUkpKiM2fOePosXrxYS5cu1YoVK7R37145nU4NHTpUp0+f9vRJS0tTbm6ucnJytHPnTtXU1GjkyJFqaGhozukBAAALadacnQceeEBpaWmqr6/XoEGDJElvvvmm5s6d+63eoJyXl+e1vmbNGkVGRqqoqEi33367DMPQ8uXLNX/+fI0dO1aStHbtWkVFRWnTpk2aNm2aqqqqtGrVKq1fv15DhgyRJG3YsEGxsbHavn27hg0b1pxTBAAAFtGssDN37lydOnVK06dPV11dnSSpbdu2evzxx5WRkdHsYqqqqiRJYWFhkqSSkhK5XC6lpKR4+tjtdvXv31+7du3StGnTVFRUpPr6eq8+MTExio+P165du5oMO263W26327NeXV3d7JoBAIBva9ZtLJvNpmeeeUaff/659uzZo3/84x86deqUFixY0OxCDMNQenq6fvzjHys+Pl7SV3ODJDV6W3NUVJRnm8vlUmBgoDp27HjRPl+XlZUlh8PhWWJjY5tdNwAA8G3NCjsXtG/fXrfddpvi4+Nlt9uvqJCHH35YBw4c0B/+8IdG22w2m9e6YRiN2r7uUn0yMjJUVVXlWUpLS5tfOAAA8GlXFHZaysyZM/Xqq6/qrbfeUufOnT3tTqdTkhqN0JSXl3tGe5xOp+rq6lRRUXHRPl9nt9sVGhrqtQAAAGsyNewYhqGHH35Yf/7zn7Vjxw7FxcV5bY+Li5PT6VR+fr6nra6uToWFherbt68kKTExUQEBAV59ysrKdOjQIU8fAABw/WrWBOWWMmPGDG3atEl/+ctfFBIS4hnBcTgcCgoKks1mU1pamhYtWqTu3bure/fuWrRokdq1a6eJEyd6+k6dOlWzZ89WeHi4wsLCNGfOHCUkJHiezgIAANcvU8POypUrJUkDBgzwal+zZo2mTJki6asnv2prazV9+nRVVFSod+/e2rZtm0JCQjz9ly1bJn9/f40fP161tbUaPHiwsrOz5efnd7VOBQAA+CibYRiG2UWYrbq6Wg6HQ1VVVc2ev5P42LoWruralRvyrNkl+IQuCw6aXQIAWNrl/n77xARlAACA1kLYAQAAlkbYAQAAlkbYAQAAlkbYAQAAlkbYAQAAlkbYAQAAlkbYAQAAlkbYAQAAlkbYAQAAlkbYAQAAlkbYAQAAlkbYAQAAlkbYAQAAlkbYAQAAlkbYAQAAlkbYAQAAlkbYAQAAlkbYAQAAlkbYAQAAlkbYAQAAlkbYAQAAlkbYAQAAlkbYAQAAlkbYAQAAlkbYAQAAlkbYAQAAlkbYAQAAlkbYAQAAlkbYAQAAlmZq2Hn77bc1atQoxcTEyGaz6ZVXXvHaPmXKFNlsNq+lT58+Xn3cbrdmzpypiIgIBQcHa/To0Tpx4sRVPAsAAODLTA07Z86cUa9evbRixYqL9hk+fLjKyso8y9atW722p6WlKTc3Vzk5Odq5c6dqamo0cuRINTQ0tHb5AADgGuBv5oenpqYqNTX1kn3sdrucTmeT26qqqrRq1SqtX79eQ4YMkSRt2LBBsbGx2r59u4YNG9biNQMAgGuLz8/ZKSgoUGRkpG688UY9+OCDKi8v92wrKipSfX29UlJSPG0xMTGKj4/Xrl27LnpMt9ut6upqrwUAAFiTT4ed1NRUbdy4UTt27NCSJUu0d+9eDRo0SG63W5LkcrkUGBiojh07eu0XFRUll8t10eNmZWXJ4XB4ltjY2FY9DwAAYB5Tb2N9kwkTJnj+HR8fr6SkJHXt2lWvv/66xo4de9H9DMOQzWa76PaMjAylp6d71qurqwk8AABYlE+P7HxddHS0unbtqqNHj0qSnE6n6urqVFFR4dWvvLxcUVFRFz2O3W5XaGio1wIAAKzpmgo7J0+eVGlpqaKjoyVJiYmJCggIUH5+vqdPWVmZDh06pL59+5pVJgAA8CGm3saqqanRRx995FkvKSlRcXGxwsLCFBYWpszMTI0bN07R0dE6duyY5s2bp4iICN11112SJIfDoalTp2r27NkKDw9XWFiY5syZo4SEBM/TWQAA4PpmatjZt2+fBg4c6Fm/MI9m8uTJWrlypQ4ePKh169apsrJS0dHRGjhwoDZv3qyQkBDPPsuWLZO/v7/Gjx+v2tpaDR48WNnZ2fLz87vq5wMAAHyPzTAMw+wizFZdXS2Hw6Gqqqpmz99JfGxdC1d17coNedbsEnxClwUHzS4BACztcn+/r6k5OwAAAN8WYQcAAFgaYQcAAFgaYQcAAFgaYQcAAFgaYQcAAFgaYQcAAFgaYQcAAFgaYQcAAFgaYQcAAFgaYQcAAFgaYQcAAFgaYQcAAFgaYQcAAFgaYQcAAFgaYQcAAFgaYQcAAFgaYQcAAFgaYQcAAFgaYQcAAFgaYQcAAFgaYQcAAFgaYQcAAFgaYQcAAFgaYQcAAFgaYQcAAFgaYQcAAFgaYQcAAFgaYQcAAFgaYQcAAFgaYQcAAFiaqWHn7bff1qhRoxQTEyObzaZXXnnFa7thGMrMzFRMTIyCgoI0YMAAHT582KuP2+3WzJkzFRERoeDgYI0ePVonTpy4imcBAAB8malh58yZM+rVq5dWrFjR5PbFixdr6dKlWrFihfbu3Sun06mhQ4fq9OnTnj5paWnKzc1VTk6Odu7cqZqaGo0cOVINDQ1X6zQAAIAP8zfzw1NTU5WamtrkNsMwtHz5cs2fP19jx46VJK1du1ZRUVHatGmTpk2bpqqqKq1atUrr16/XkCFDJEkbNmxQbGystm/frmHDhjV5bLfbLbfb7Vmvrq5u4TMDAAC+wmfn7JSUlMjlciklJcXTZrfb1b9/f+3atUuSVFRUpPr6eq8+MTExio+P9/RpSlZWlhwOh2eJjY1tvRMBAACm8tmw43K5JElRUVFe7VFRUZ5tLpdLgYGB6tix40X7NCUjI0NVVVWepbS0tIWrBwAAvsLU21iXw2azea0bhtGo7eu+qY/dbpfdbm+R+gAAgG/z2ZEdp9MpSY1GaMrLyz2jPU6nU3V1daqoqLhoHwAAcH3z2bATFxcnp9Op/Px8T1tdXZ0KCwvVt29fSVJiYqICAgK8+pSVlenQoUOePgAA4Ppm6m2smpoaffTRR571kpISFRcXKywsTF26dFFaWpoWLVqk7t27q3v37lq0aJHatWuniRMnSpIcDoemTp2q2bNnKzw8XGFhYZozZ44SEhI8T2cBAIDrm6lhZ9++fRo4cKBnPT09XZI0efJkZWdna+7cuaqtrdX06dNVUVGh3r17a9u2bQoJCfHss2zZMvn7+2v8+PGqra3V4MGDlZ2dLT8/v6t+PgB80/EnEswuwSd0WXDQ7BIAU9gMwzDMLsJs1dXVcjgcqqqqUmhoaLOOkfjYuhau6tqVG/Ks2SX4BH5YfAdh5yt8J2E1l/v77bNzdgAAAFoCYQcAAFgaYQcAAFgaYQcAAFgaYQcAAFgaYQcAAFgaYQcAAFgaYQcAAFgaYQcAAFgaYQcAAFgaYQcAAFgaYQcAAFgaYQcAAFiav9kFAGg9iY+tM7sEn5AbYnYFAMzEyA4AALA0wg4AALA0wg4AALA0wg4AALA0wg4AALA0wg4AALA0wg4AALA0wg4AALA0wg4AALA0wg4AALA0wg4AALA0wg4AALA0wg4AALA0wg4AALA0wg4AALA0wg4AALA0nw47mZmZstlsXovT6fRsNwxDmZmZiomJUVBQkAYMGKDDhw+bWDEAAPA1Ph12JOnmm29WWVmZZzl48KBn2+LFi7V06VKtWLFCe/fuldPp1NChQ3X69GkTKwYAAL7E58OOv7+/nE6nZ+nUqZOkr0Z1li9frvnz52vs2LGKj4/X2rVrdfbsWW3atMnkqgEAgK/w+bBz9OhRxcTEKC4uTvfcc4/++c9/SpJKSkrkcrmUkpLi6Wu329W/f3/t2rXrksd0u92qrq72WgAAgDX5dNjp3bu31q1bpzfeeEMvv/yyXC6X+vbtq5MnT8rlckmSoqKivPaJiorybLuYrKwsORwOzxIbG9tq5wAAAMzl02EnNTVV48aNU0JCgoYMGaLXX39dkrR27VpPH5vN5rWPYRiN2r4uIyNDVVVVnqW0tLTliwcAAD7B3+wCvo3g4GAlJCTo6NGjuvPOOyVJLpdL0dHRnj7l5eWNRnu+zm63y263t2apAIAmJD62zuwSfELRs/eZXcJ1xadHdr7O7XbryJEjio6OVlxcnJxOp/Lz8z3b6+rqVFhYqL59+5pYJQAA8CU+PbIzZ84cjRo1Sl26dFF5ebmefPJJVVdXa/LkybLZbEpLS9OiRYvUvXt3de/eXYsWLVK7du00ceJEs0sHAAA+wqfDzokTJ/STn/xEX3zxhTp16qQ+ffpoz5496tq1qyRp7ty5qq2t1fTp01VRUaHevXtr27ZtCgkJMblyAADgK3w67OTk5Fxyu81mU2ZmpjIzM69OQQAA4JpzTc3ZAQAA+LYIOwAAwNIIOwAAwNIIOwAAwNIIOwAAwNIIOwAAwNIIOwAAwNIIOwAAwNIIOwAAwNJ8+g3KAABY0fEnEswuwSd0WXDwqnwOIzsAAMDSCDsAAMDSCDsAAMDSCDsAAMDSCDsAAMDSCDsAAMDSCDsAAMDSCDsAAMDSCDsAAMDSCDsAAMDSCDsAAMDSCDsAAMDSCDsAAMDSCDsAAMDSCDsAAMDSCDsAAMDSCDsAAMDSCDsAAMDSCDsAAMDSCDsAAMDSLBN2XnjhBcXFxalt27ZKTEzUO++8Y3ZJAADAB1gi7GzevFlpaWmaP3++9u/fr379+ik1NVXHjx83uzQAAGAyS4SdpUuXaurUqXrggQfUo0cPLV++XLGxsVq5cqXZpQEAAJP5m13Alaqrq1NRUZH+3//7f17tKSkp2rVrV5P7uN1uud1uz3pVVZUkqbq6utl1NLhrm72v1ZwOaDC7BJ9wJd+nlsL38it8J7/Cd9J38J38ypV+Jy/sbxjGJftd82Hniy++UENDg6Kiorzao6Ki5HK5mtwnKytLv/zlLxu1x8bGtkqN15t4swvwFVkOsyvA/+E7+X/4TvoMvpP/p4W+k6dPn5bDcfFjXfNh5wKbzea1bhhGo7YLMjIylJ6e7lk/f/68Tp06pfDw8Ivug8tTXV2t2NhYlZaWKjQ01OxyAL6T8Dl8J1uOYRg6ffq0YmJiLtnvmg87ERER8vPzazSKU15e3mi05wK73S673e7V1qFDh9Yq8boUGhrKf8TwKXwn4Wv4TraMS43oXHDNT1AODAxUYmKi8vPzvdrz8/PVt29fk6oCAAC+4pof2ZGk9PR03XvvvUpKSlJycrJ+97vf6fjx43rooYfMLg0AAJjMEmFnwoQJOnnypJ544gmVlZUpPj5eW7duVdeuXc0u7bpjt9u1cOHCRrcJAbPwnYSv4Tt59dmMb3peCwAA4Bp2zc/ZAQAAuBTCDgAAsDTCDgAAsDTCDgAAsDTCDlpEeXm5pk2bpi5dushut8vpdGrYsGHavXu32aXhOuZyuTRz5kzdcMMNstvtio2N1ahRo/Tmm2+aXRqAq4iwgxYxbtw4/eMf/9DatWv14Ycf6tVXX9WAAQN06tQps0vDderYsWNKTEzUjh07tHjxYh08eFB5eXkaOHCgZsyYYXZ5uE6VlpZq6tSpiomJUWBgoLp27apHHnlEJ0+eNLs0S+PRc1yxyspKdezYUQUFBerfv7/Z5QCSpBEjRujAgQP64IMPFBwc7LWtsrKSPxGDq+6f//ynkpOTdeONN+rJJ59UXFycDh8+rMcee0x1dXXas2ePwsLCzC7TkhjZwRVr37692rdvr1deeUVut9vscgCdOnVKeXl5mjFjRqOgI/G38GCOGTNmKDAwUNu2bVP//v3VpUsXpaamavv27frXv/6l+fPnm12iZRF2cMX8/f2VnZ2ttWvXqkOHDvrRj36kefPm6cCBA2aXhuvURx99JMMwdNNNN5ldCiDpqwD+xhtvaPr06QoKCvLa5nQ6NWnSJG3evFncbGkdhB20iHHjxunTTz/Vq6++qmHDhqmgoEA/+MEPlJ2dbXZpuA5d+MGw2WwmVwJ85ejRozIMQz169Ghye48ePVRRUaHPP//8Kld2fSDsoMW0bdtWQ4cO1YIFC7Rr1y5NmTJFCxcuNLssXIe6d+8um82mI0eOmF0KcFkuBPTAwECTK7Emwg5aTc+ePXXmzBmzy8B1KCwsTMOGDdNvf/vbJr+DlZWVV78oXNe6desmm82m9957r8nt77//vjp16sR8slZC2MEVO3nypAYNGqQNGzbowIEDKikp0Z/+9CctXrxYY8aMMbs8XKdeeOEFNTQ06Ic//KG2bNmio0eP6siRI3r++eeVnJxsdnm4zoSHh2vo0KF64YUXVFtb67XN5XJp48aNmjJlijnFXQd49BxXzO12KzMzU9u2bdPHH3+s+vp6xcbG6u6779a8efMaTcYDrpaysjI99dRT+t///V+VlZWpU6dOSkxM1KOPPqoBAwaYXR6uM0ePHlXfvn3Vo0ePRo+e+/v765133lH79u3NLtOSCDsAAFwlx44dU2ZmpvLy8lReXi7DMDR27FitX79e7dq1M7s8yyLsAABgkoULF2rp0qXatm0bt1dbEWEHAAATrVmzRlVVVZo1a5batGEqbWsg7AAAAEsjQgIAAEsj7AAAAEsj7AAAAEsj7AAAAEsj7AAAAEsj7AC4pmRmZur73/9+qxy7oKBANputRf921rFjx2Sz2VRcXNxixwTw7RB2ALSaKVOmyGazNVqGDx9udmkAriP+ZhcAwNqGDx+uNWvWeLXZ7XaTqrm4+vp6s0sA0EoY2QHQqux2u5xOp9fSsWNHSZLNZtNLL72kkSNHql27durRo4d2796tjz76SAMGDFBwcLCSk5P18ccfNzruSy+9pNjYWLVr10533323162nvXv3aujQoYqIiJDD4VD//v317rvveu1vs9n04osvasyYMQoODtaTTz7Z6DNqa2t1xx13qE+fPjp16pSkr95226NHD7Vt21Y33XSTXnjhBa99/v73v+vWW29V27ZtlZSUpP3791/pJQRwhQg7AEz1q1/9Svfdd5+Ki4t10003aeLEiZo2bZoyMjK0b98+SdLDDz/stc9HH32kP/7xj3rttdeUl5en4uJizZgxw7P99OnTmjx5st555x3t2bNH3bt314gRI3T69Gmv4yxcuFBjxozRwYMHdf/993ttq6qqUkpKiurq6vTmm28qLCxML7/8subPn6+nnnpKR44c0aJFi/SLX/xCa9eulSSdOXNGI0eO1Pe+9z0VFRUpMzNTc+bMaY3LBuDbMACglUyePNnw8/MzgoODvZYnnnjCMAzDkGT8/Oc/9/TfvXu3IclYtWqVp+0Pf/iD0bZtW8/6woULDT8/P6O0tNTT9te//tVo06aNUVZW1mQd586dM0JCQozXXnvN0ybJSEtL8+r31ltvGZKM999/3+jVq5cxduxYw+12e7bHxsYamzZt8trnV7/6lZGcnGwYhmG89NJLRlhYmHHmzBnP9pUrVxqSjP3793/j9QLQOpizA6BVDRw4UCtXrvRqCwsL8/z7lltu8fw7KipKkpSQkODV9uWXX6q6ulqhoaGSpC5duqhz586ePsnJyTp//rw++OADOZ1OlZeXa8GCBdqxY4c+++wzNTQ06OzZszp+/LhXHUlJSU3WPGTIEN1222364x//KD8/P0nS559/rtLSUk2dOlUPPvigp++5c+fkcDgkSUeOHFGvXr3Url07r9oAmIuwA6BVBQcHq1u3bhfdHhAQ4Pm3zWa7aNv58+cveowLfS7875QpU/T5559r+fLl6tq1q+x2u5KTk1VXV9eotqbccccd2rJli9577z1P8Lrw+S+//LJ69+7t1f9CIDL4u8qATyLsALjmHD9+XJ9++qliYmIkSbt371abNm104403SpLeeecdvfDCCxoxYoQkqbS0VF988cVlH//pp59W+/btNXjwYBUUFKhnz56KiorSd77zHf3zn//UpEmTmtyvZ8+eWr9+vWpraxUUFCRJ2rNnz5WcKoAWQNgB0KrcbrdcLpdXm7+/vyIiIpp9zLZt22ry5Ml67rnnVF1drVmzZmn8+PFyOp2SpG7dumn9+vVKSkpSdXW1HnvsMU/4uFzPPfecGhoaNGjQIBUUFOimm25SZmamZs2apdDQUKWmpsrtdmvfvn2qqKhQenq6Jk6cqPnz52vq1Kn6+c9/rmPHjum5555r9nkCaBk8jQWgVeXl5Sk6Otpr+fGPf3xFx+zWrZvGjh2rESNGKCUlRfHx8V6PgK9evVoVFRW69dZbde+992rWrFmKjIz81p+zbNkyjR8/XoMGDdKHH36oBx54QL///e+VnZ2thIQE9e/fX9nZ2YqLi5MktW/fXq+99pree+893XrrrZo/f76eeeaZKzpXAFfOZnCTGQAAWBgjOwAAwNIIOwAAwNIIOwAAwNIIOwAAwNIIOwAAwNIIOwAAwNIIOwAAwNIIOwAAwNIIOwAAwNIIOwAAwNIIOwAAwNL+P2gFxCXcOYkuAAAAAElFTkSuQmCC",
      "text/plain": [
       "<Figure size 640x480 with 1 Axes>"
      ]
     },
     "metadata": {},
     "output_type": "display_data"
    }
   ],
   "source": [
    "sns.countplot(x=df['Embarked'],hue=df['Survived'])"
   ]
  },
  {
   "cell_type": "code",
   "execution_count": 29,
   "id": "1554fab2",
   "metadata": {},
   "outputs": [
    {
     "data": {
      "text/plain": [
       "PassengerId       0\n",
       "Survived        418\n",
       "Pclass            0\n",
       "Name              0\n",
       "Sex               0\n",
       "Age             263\n",
       "SibSp             0\n",
       "Parch             0\n",
       "Ticket            0\n",
       "Fare              0\n",
       "Cabin          1014\n",
       "Embarked          0\n",
       "dtype: int64"
      ]
     },
     "execution_count": 29,
     "metadata": {},
     "output_type": "execute_result"
    }
   ],
   "source": [
    "df.isnull().sum()"
   ]
  },
  {
   "cell_type": "code",
   "execution_count": 30,
   "id": "16ade586",
   "metadata": {},
   "outputs": [
    {
     "data": {
      "text/plain": [
       "(1309, 12)"
      ]
     },
     "execution_count": 30,
     "metadata": {},
     "output_type": "execute_result"
    }
   ],
   "source": [
    "df.shape"
   ]
  },
  {
   "cell_type": "code",
   "execution_count": 31,
   "id": "6c80067e",
   "metadata": {},
   "outputs": [],
   "source": [
    "del df['Cabin'] #BİR DEFA ÇALIŞTIR"
   ]
  },
  {
   "cell_type": "code",
   "execution_count": 32,
   "id": "00cd7128",
   "metadata": {},
   "outputs": [
    {
     "data": {
      "text/html": [
       "<div>\n",
       "<style scoped>\n",
       "    .dataframe tbody tr th:only-of-type {\n",
       "        vertical-align: middle;\n",
       "    }\n",
       "\n",
       "    .dataframe tbody tr th {\n",
       "        vertical-align: top;\n",
       "    }\n",
       "\n",
       "    .dataframe thead th {\n",
       "        text-align: right;\n",
       "    }\n",
       "</style>\n",
       "<table border=\"1\" class=\"dataframe\">\n",
       "  <thead>\n",
       "    <tr style=\"text-align: right;\">\n",
       "      <th></th>\n",
       "      <th>PassengerId</th>\n",
       "      <th>Survived</th>\n",
       "      <th>Pclass</th>\n",
       "      <th>Name</th>\n",
       "      <th>Sex</th>\n",
       "      <th>Age</th>\n",
       "      <th>SibSp</th>\n",
       "      <th>Parch</th>\n",
       "      <th>Ticket</th>\n",
       "      <th>Fare</th>\n",
       "      <th>Embarked</th>\n",
       "    </tr>\n",
       "  </thead>\n",
       "  <tbody>\n",
       "    <tr>\n",
       "      <th>580</th>\n",
       "      <td>581</td>\n",
       "      <td>1.0</td>\n",
       "      <td>2</td>\n",
       "      <td>Christy, Miss. Julie Rachel</td>\n",
       "      <td>female</td>\n",
       "      <td>25.0</td>\n",
       "      <td>1</td>\n",
       "      <td>1</td>\n",
       "      <td>237789</td>\n",
       "      <td>30.0000</td>\n",
       "      <td>S</td>\n",
       "    </tr>\n",
       "    <tr>\n",
       "      <th>5</th>\n",
       "      <td>6</td>\n",
       "      <td>0.0</td>\n",
       "      <td>3</td>\n",
       "      <td>Moran, Mr. James</td>\n",
       "      <td>male</td>\n",
       "      <td>NaN</td>\n",
       "      <td>0</td>\n",
       "      <td>0</td>\n",
       "      <td>330877</td>\n",
       "      <td>8.4583</td>\n",
       "      <td>Q</td>\n",
       "    </tr>\n",
       "    <tr>\n",
       "      <th>293</th>\n",
       "      <td>1185</td>\n",
       "      <td>NaN</td>\n",
       "      <td>1</td>\n",
       "      <td>Dodge, Dr. Washington</td>\n",
       "      <td>male</td>\n",
       "      <td>53.0</td>\n",
       "      <td>1</td>\n",
       "      <td>1</td>\n",
       "      <td>33638</td>\n",
       "      <td>81.8583</td>\n",
       "      <td>S</td>\n",
       "    </tr>\n",
       "    <tr>\n",
       "      <th>340</th>\n",
       "      <td>341</td>\n",
       "      <td>1.0</td>\n",
       "      <td>2</td>\n",
       "      <td>Navratil, Master. Edmond Roger</td>\n",
       "      <td>male</td>\n",
       "      <td>2.0</td>\n",
       "      <td>1</td>\n",
       "      <td>1</td>\n",
       "      <td>230080</td>\n",
       "      <td>26.0000</td>\n",
       "      <td>S</td>\n",
       "    </tr>\n",
       "    <tr>\n",
       "      <th>761</th>\n",
       "      <td>762</td>\n",
       "      <td>0.0</td>\n",
       "      <td>3</td>\n",
       "      <td>Nirva, Mr. Iisakki Antino Aijo</td>\n",
       "      <td>male</td>\n",
       "      <td>41.0</td>\n",
       "      <td>0</td>\n",
       "      <td>0</td>\n",
       "      <td>SOTON/O2 3101272</td>\n",
       "      <td>7.1250</td>\n",
       "      <td>S</td>\n",
       "    </tr>\n",
       "  </tbody>\n",
       "</table>\n",
       "</div>"
      ],
      "text/plain": [
       "     PassengerId  Survived  Pclass                            Name     Sex  \\\n",
       "580          581       1.0       2     Christy, Miss. Julie Rachel  female   \n",
       "5              6       0.0       3                Moran, Mr. James    male   \n",
       "293         1185       NaN       1           Dodge, Dr. Washington    male   \n",
       "340          341       1.0       2  Navratil, Master. Edmond Roger    male   \n",
       "761          762       0.0       3  Nirva, Mr. Iisakki Antino Aijo    male   \n",
       "\n",
       "      Age  SibSp  Parch            Ticket     Fare Embarked  \n",
       "580  25.0      1      1            237789  30.0000        S  \n",
       "5     NaN      0      0            330877   8.4583        Q  \n",
       "293  53.0      1      1             33638  81.8583        S  \n",
       "340   2.0      1      1            230080  26.0000        S  \n",
       "761  41.0      0      0  SOTON/O2 3101272   7.1250        S  "
      ]
     },
     "execution_count": 32,
     "metadata": {},
     "output_type": "execute_result"
    }
   ],
   "source": [
    "df.sample(5) #Rastgele 5 satır"
   ]
  },
  {
   "cell_type": "code",
   "execution_count": 33,
   "id": "01d19e7d",
   "metadata": {},
   "outputs": [],
   "source": [
    "#Feature Engineering - Öznitelik Mühendisliği"
   ]
  },
  {
   "cell_type": "code",
   "execution_count": 34,
   "id": "8fa43ba6",
   "metadata": {},
   "outputs": [],
   "source": [
    "df['Title']=df['Name'].str.extract(' ([A-Za-z]+)\\.',expand=True) #ilk boşluğu buldu ve noktaya kadar gidip arasındaki harfleri aldı\n",
    "#String - Metin Yazı - Sözel Veri"
   ]
  },
  {
   "cell_type": "code",
   "execution_count": 35,
   "id": "dba75092",
   "metadata": {},
   "outputs": [
    {
     "data": {
      "text/plain": [
       "Mr          757\n",
       "Miss        260\n",
       "Mrs         197\n",
       "Master       61\n",
       "Rev           8\n",
       "Dr            8\n",
       "Col           4\n",
       "Mlle          2\n",
       "Major         2\n",
       "Ms            2\n",
       "Lady          1\n",
       "Sir           1\n",
       "Mme           1\n",
       "Don           1\n",
       "Capt          1\n",
       "Countess      1\n",
       "Jonkheer      1\n",
       "Dona          1\n",
       "Name: Title, dtype: int64"
      ]
     },
     "execution_count": 35,
     "metadata": {},
     "output_type": "execute_result"
    }
   ],
   "source": [
    "df['Title'].value_counts() #hangi değerden kaç tane var say ve yaz"
   ]
  },
  {
   "cell_type": "code",
   "execution_count": 36,
   "id": "cc2c2320",
   "metadata": {},
   "outputs": [],
   "source": [
    "df['Title']=df['Title'].replace(['Ms','Mlle'],'Miss')\n",
    "df['Title']=df['Title'].replace(['Mme','Countess','Lady','Dona'],'Mrs')\n",
    "df['Title']=df['Title'].replace(['Rev','Jonkheer','Don','Sir','Major','Dr','Capt','Col'],'Mr')"
   ]
  },
  {
   "cell_type": "code",
   "execution_count": 37,
   "id": "67c6e8cb",
   "metadata": {},
   "outputs": [
    {
     "data": {
      "text/html": [
       "<div>\n",
       "<style scoped>\n",
       "    .dataframe tbody tr th:only-of-type {\n",
       "        vertical-align: middle;\n",
       "    }\n",
       "\n",
       "    .dataframe tbody tr th {\n",
       "        vertical-align: top;\n",
       "    }\n",
       "\n",
       "    .dataframe thead th {\n",
       "        text-align: right;\n",
       "    }\n",
       "</style>\n",
       "<table border=\"1\" class=\"dataframe\">\n",
       "  <thead>\n",
       "    <tr style=\"text-align: right;\">\n",
       "      <th></th>\n",
       "      <th>PassengerId</th>\n",
       "      <th>Survived</th>\n",
       "      <th>Pclass</th>\n",
       "      <th>Name</th>\n",
       "      <th>Sex</th>\n",
       "      <th>Age</th>\n",
       "      <th>SibSp</th>\n",
       "      <th>Parch</th>\n",
       "      <th>Ticket</th>\n",
       "      <th>Fare</th>\n",
       "      <th>Embarked</th>\n",
       "      <th>Title</th>\n",
       "    </tr>\n",
       "  </thead>\n",
       "  <tbody>\n",
       "    <tr>\n",
       "      <th>0</th>\n",
       "      <td>1</td>\n",
       "      <td>0.0</td>\n",
       "      <td>3</td>\n",
       "      <td>Braund, Mr. Owen Harris</td>\n",
       "      <td>male</td>\n",
       "      <td>22.0</td>\n",
       "      <td>1</td>\n",
       "      <td>0</td>\n",
       "      <td>A/5 21171</td>\n",
       "      <td>7.2500</td>\n",
       "      <td>S</td>\n",
       "      <td>Mr</td>\n",
       "    </tr>\n",
       "    <tr>\n",
       "      <th>1</th>\n",
       "      <td>2</td>\n",
       "      <td>1.0</td>\n",
       "      <td>1</td>\n",
       "      <td>Cumings, Mrs. John Bradley (Florence Briggs Th...</td>\n",
       "      <td>female</td>\n",
       "      <td>38.0</td>\n",
       "      <td>1</td>\n",
       "      <td>0</td>\n",
       "      <td>PC 17599</td>\n",
       "      <td>71.2833</td>\n",
       "      <td>C</td>\n",
       "      <td>Mrs</td>\n",
       "    </tr>\n",
       "    <tr>\n",
       "      <th>2</th>\n",
       "      <td>3</td>\n",
       "      <td>1.0</td>\n",
       "      <td>3</td>\n",
       "      <td>Heikkinen, Miss. Laina</td>\n",
       "      <td>female</td>\n",
       "      <td>26.0</td>\n",
       "      <td>0</td>\n",
       "      <td>0</td>\n",
       "      <td>STON/O2. 3101282</td>\n",
       "      <td>7.9250</td>\n",
       "      <td>S</td>\n",
       "      <td>Miss</td>\n",
       "    </tr>\n",
       "    <tr>\n",
       "      <th>3</th>\n",
       "      <td>4</td>\n",
       "      <td>1.0</td>\n",
       "      <td>1</td>\n",
       "      <td>Futrelle, Mrs. Jacques Heath (Lily May Peel)</td>\n",
       "      <td>female</td>\n",
       "      <td>35.0</td>\n",
       "      <td>1</td>\n",
       "      <td>0</td>\n",
       "      <td>113803</td>\n",
       "      <td>53.1000</td>\n",
       "      <td>S</td>\n",
       "      <td>Mrs</td>\n",
       "    </tr>\n",
       "    <tr>\n",
       "      <th>4</th>\n",
       "      <td>5</td>\n",
       "      <td>0.0</td>\n",
       "      <td>3</td>\n",
       "      <td>Allen, Mr. William Henry</td>\n",
       "      <td>male</td>\n",
       "      <td>35.0</td>\n",
       "      <td>0</td>\n",
       "      <td>0</td>\n",
       "      <td>373450</td>\n",
       "      <td>8.0500</td>\n",
       "      <td>S</td>\n",
       "      <td>Mr</td>\n",
       "    </tr>\n",
       "  </tbody>\n",
       "</table>\n",
       "</div>"
      ],
      "text/plain": [
       "   PassengerId  Survived  Pclass  \\\n",
       "0            1       0.0       3   \n",
       "1            2       1.0       1   \n",
       "2            3       1.0       3   \n",
       "3            4       1.0       1   \n",
       "4            5       0.0       3   \n",
       "\n",
       "                                                Name     Sex   Age  SibSp  \\\n",
       "0                            Braund, Mr. Owen Harris    male  22.0      1   \n",
       "1  Cumings, Mrs. John Bradley (Florence Briggs Th...  female  38.0      1   \n",
       "2                             Heikkinen, Miss. Laina  female  26.0      0   \n",
       "3       Futrelle, Mrs. Jacques Heath (Lily May Peel)  female  35.0      1   \n",
       "4                           Allen, Mr. William Henry    male  35.0      0   \n",
       "\n",
       "   Parch            Ticket     Fare Embarked Title  \n",
       "0      0         A/5 21171   7.2500        S    Mr  \n",
       "1      0          PC 17599  71.2833        C   Mrs  \n",
       "2      0  STON/O2. 3101282   7.9250        S  Miss  \n",
       "3      0            113803  53.1000        S   Mrs  \n",
       "4      0            373450   8.0500        S    Mr  "
      ]
     },
     "execution_count": 37,
     "metadata": {},
     "output_type": "execute_result"
    }
   ],
   "source": [
    "df.head()"
   ]
  },
  {
   "cell_type": "code",
   "execution_count": 38,
   "id": "6ef70fb4",
   "metadata": {},
   "outputs": [
    {
     "data": {
      "text/plain": [
       "PassengerId      0\n",
       "Survived       418\n",
       "Pclass           0\n",
       "Name             0\n",
       "Sex              0\n",
       "Age            263\n",
       "SibSp            0\n",
       "Parch            0\n",
       "Ticket           0\n",
       "Fare             0\n",
       "Embarked         0\n",
       "Title            0\n",
       "dtype: int64"
      ]
     },
     "execution_count": 38,
     "metadata": {},
     "output_type": "execute_result"
    }
   ],
   "source": [
    "df.isnull().sum()"
   ]
  },
  {
   "cell_type": "code",
   "execution_count": 39,
   "id": "1a9cab1b",
   "metadata": {},
   "outputs": [
    {
     "data": {
      "text/html": [
       "<div>\n",
       "<style scoped>\n",
       "    .dataframe tbody tr th:only-of-type {\n",
       "        vertical-align: middle;\n",
       "    }\n",
       "\n",
       "    .dataframe tbody tr th {\n",
       "        vertical-align: top;\n",
       "    }\n",
       "\n",
       "    .dataframe thead th {\n",
       "        text-align: right;\n",
       "    }\n",
       "</style>\n",
       "<table border=\"1\" class=\"dataframe\">\n",
       "  <thead>\n",
       "    <tr style=\"text-align: right;\">\n",
       "      <th></th>\n",
       "      <th>PassengerId</th>\n",
       "      <th>Survived</th>\n",
       "      <th>Pclass</th>\n",
       "      <th>Name</th>\n",
       "      <th>Sex</th>\n",
       "      <th>Age</th>\n",
       "      <th>SibSp</th>\n",
       "      <th>Parch</th>\n",
       "      <th>Ticket</th>\n",
       "      <th>Fare</th>\n",
       "      <th>Embarked</th>\n",
       "      <th>Title</th>\n",
       "    </tr>\n",
       "  </thead>\n",
       "  <tbody>\n",
       "    <tr>\n",
       "      <th>7</th>\n",
       "      <td>8</td>\n",
       "      <td>0.0</td>\n",
       "      <td>3</td>\n",
       "      <td>Palsson, Master. Gosta Leonard</td>\n",
       "      <td>male</td>\n",
       "      <td>2.0</td>\n",
       "      <td>3</td>\n",
       "      <td>1</td>\n",
       "      <td>349909</td>\n",
       "      <td>21.0750</td>\n",
       "      <td>S</td>\n",
       "      <td>Master</td>\n",
       "    </tr>\n",
       "    <tr>\n",
       "      <th>9</th>\n",
       "      <td>10</td>\n",
       "      <td>1.0</td>\n",
       "      <td>2</td>\n",
       "      <td>Nasser, Mrs. Nicholas (Adele Achem)</td>\n",
       "      <td>female</td>\n",
       "      <td>14.0</td>\n",
       "      <td>1</td>\n",
       "      <td>0</td>\n",
       "      <td>237736</td>\n",
       "      <td>30.0708</td>\n",
       "      <td>C</td>\n",
       "      <td>Mrs</td>\n",
       "    </tr>\n",
       "    <tr>\n",
       "      <th>10</th>\n",
       "      <td>11</td>\n",
       "      <td>1.0</td>\n",
       "      <td>3</td>\n",
       "      <td>Sandstrom, Miss. Marguerite Rut</td>\n",
       "      <td>female</td>\n",
       "      <td>4.0</td>\n",
       "      <td>1</td>\n",
       "      <td>1</td>\n",
       "      <td>PP 9549</td>\n",
       "      <td>16.7000</td>\n",
       "      <td>S</td>\n",
       "      <td>Miss</td>\n",
       "    </tr>\n",
       "    <tr>\n",
       "      <th>14</th>\n",
       "      <td>15</td>\n",
       "      <td>0.0</td>\n",
       "      <td>3</td>\n",
       "      <td>Vestrom, Miss. Hulda Amanda Adolfina</td>\n",
       "      <td>female</td>\n",
       "      <td>14.0</td>\n",
       "      <td>0</td>\n",
       "      <td>0</td>\n",
       "      <td>350406</td>\n",
       "      <td>7.8542</td>\n",
       "      <td>S</td>\n",
       "      <td>Miss</td>\n",
       "    </tr>\n",
       "    <tr>\n",
       "      <th>16</th>\n",
       "      <td>17</td>\n",
       "      <td>0.0</td>\n",
       "      <td>3</td>\n",
       "      <td>Rice, Master. Eugene</td>\n",
       "      <td>male</td>\n",
       "      <td>2.0</td>\n",
       "      <td>4</td>\n",
       "      <td>1</td>\n",
       "      <td>382652</td>\n",
       "      <td>29.1250</td>\n",
       "      <td>Q</td>\n",
       "      <td>Master</td>\n",
       "    </tr>\n",
       "    <tr>\n",
       "      <th>...</th>\n",
       "      <td>...</td>\n",
       "      <td>...</td>\n",
       "      <td>...</td>\n",
       "      <td>...</td>\n",
       "      <td>...</td>\n",
       "      <td>...</td>\n",
       "      <td>...</td>\n",
       "      <td>...</td>\n",
       "      <td>...</td>\n",
       "      <td>...</td>\n",
       "      <td>...</td>\n",
       "      <td>...</td>\n",
       "    </tr>\n",
       "    <tr>\n",
       "      <th>379</th>\n",
       "      <td>1271</td>\n",
       "      <td>NaN</td>\n",
       "      <td>3</td>\n",
       "      <td>Asplund, Master. Carl Edgar</td>\n",
       "      <td>male</td>\n",
       "      <td>5.0</td>\n",
       "      <td>4</td>\n",
       "      <td>2</td>\n",
       "      <td>347077</td>\n",
       "      <td>31.3875</td>\n",
       "      <td>S</td>\n",
       "      <td>Master</td>\n",
       "    </tr>\n",
       "    <tr>\n",
       "      <th>389</th>\n",
       "      <td>1281</td>\n",
       "      <td>NaN</td>\n",
       "      <td>3</td>\n",
       "      <td>Palsson, Master. Paul Folke</td>\n",
       "      <td>male</td>\n",
       "      <td>6.0</td>\n",
       "      <td>3</td>\n",
       "      <td>1</td>\n",
       "      <td>349909</td>\n",
       "      <td>21.0750</td>\n",
       "      <td>S</td>\n",
       "      <td>Master</td>\n",
       "    </tr>\n",
       "    <tr>\n",
       "      <th>392</th>\n",
       "      <td>1284</td>\n",
       "      <td>NaN</td>\n",
       "      <td>3</td>\n",
       "      <td>Abbott, Master. Eugene Joseph</td>\n",
       "      <td>male</td>\n",
       "      <td>13.0</td>\n",
       "      <td>0</td>\n",
       "      <td>2</td>\n",
       "      <td>C.A. 2673</td>\n",
       "      <td>20.2500</td>\n",
       "      <td>S</td>\n",
       "      <td>Master</td>\n",
       "    </tr>\n",
       "    <tr>\n",
       "      <th>403</th>\n",
       "      <td>1295</td>\n",
       "      <td>NaN</td>\n",
       "      <td>1</td>\n",
       "      <td>Carrau, Mr. Jose Pedro</td>\n",
       "      <td>male</td>\n",
       "      <td>17.0</td>\n",
       "      <td>0</td>\n",
       "      <td>0</td>\n",
       "      <td>113059</td>\n",
       "      <td>47.1000</td>\n",
       "      <td>S</td>\n",
       "      <td>Mr</td>\n",
       "    </tr>\n",
       "    <tr>\n",
       "      <th>409</th>\n",
       "      <td>1301</td>\n",
       "      <td>NaN</td>\n",
       "      <td>3</td>\n",
       "      <td>Peacock, Miss. Treasteall</td>\n",
       "      <td>female</td>\n",
       "      <td>3.0</td>\n",
       "      <td>1</td>\n",
       "      <td>1</td>\n",
       "      <td>SOTON/O.Q. 3101315</td>\n",
       "      <td>13.7750</td>\n",
       "      <td>S</td>\n",
       "      <td>Miss</td>\n",
       "    </tr>\n",
       "  </tbody>\n",
       "</table>\n",
       "<p>154 rows × 12 columns</p>\n",
       "</div>"
      ],
      "text/plain": [
       "     PassengerId  Survived  Pclass                                  Name  \\\n",
       "7              8       0.0       3        Palsson, Master. Gosta Leonard   \n",
       "9             10       1.0       2   Nasser, Mrs. Nicholas (Adele Achem)   \n",
       "10            11       1.0       3       Sandstrom, Miss. Marguerite Rut   \n",
       "14            15       0.0       3  Vestrom, Miss. Hulda Amanda Adolfina   \n",
       "16            17       0.0       3                  Rice, Master. Eugene   \n",
       "..           ...       ...     ...                                   ...   \n",
       "379         1271       NaN       3           Asplund, Master. Carl Edgar   \n",
       "389         1281       NaN       3           Palsson, Master. Paul Folke   \n",
       "392         1284       NaN       3         Abbott, Master. Eugene Joseph   \n",
       "403         1295       NaN       1                Carrau, Mr. Jose Pedro   \n",
       "409         1301       NaN       3             Peacock, Miss. Treasteall   \n",
       "\n",
       "        Sex   Age  SibSp  Parch              Ticket     Fare Embarked   Title  \n",
       "7      male   2.0      3      1              349909  21.0750        S  Master  \n",
       "9    female  14.0      1      0              237736  30.0708        C     Mrs  \n",
       "10   female   4.0      1      1             PP 9549  16.7000        S    Miss  \n",
       "14   female  14.0      0      0              350406   7.8542        S    Miss  \n",
       "16     male   2.0      4      1              382652  29.1250        Q  Master  \n",
       "..      ...   ...    ...    ...                 ...      ...      ...     ...  \n",
       "379    male   5.0      4      2              347077  31.3875        S  Master  \n",
       "389    male   6.0      3      1              349909  21.0750        S  Master  \n",
       "392    male  13.0      0      2           C.A. 2673  20.2500        S  Master  \n",
       "403    male  17.0      0      0              113059  47.1000        S      Mr  \n",
       "409  female   3.0      1      1  SOTON/O.Q. 3101315  13.7750        S    Miss  \n",
       "\n",
       "[154 rows x 12 columns]"
      ]
     },
     "execution_count": 39,
     "metadata": {},
     "output_type": "execute_result"
    }
   ],
   "source": [
    "df[df['Age']<18] #18 yaşından büyük olanları getir"
   ]
  },
  {
   "cell_type": "code",
   "execution_count": 40,
   "id": "afb163a7",
   "metadata": {},
   "outputs": [
    {
     "data": {
      "text/plain": [
       "Sex\n",
       "female    28.687088\n",
       "male      30.585228\n",
       "Name: Age, dtype: float64"
      ]
     },
     "execution_count": 40,
     "metadata": {},
     "output_type": "execute_result"
    }
   ],
   "source": [
    "df.groupby('Sex')['Age'].mean()"
   ]
  },
  {
   "cell_type": "code",
   "execution_count": 41,
   "id": "f7327418",
   "metadata": {},
   "outputs": [
    {
     "data": {
      "text/plain": [
       "<Axes: xlabel='Title', ylabel='count'>"
      ]
     },
     "execution_count": 41,
     "metadata": {},
     "output_type": "execute_result"
    },
    {
     "data": {
      "image/png": "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",
      "text/plain": [
       "<Figure size 640x480 with 1 Axes>"
      ]
     },
     "metadata": {},
     "output_type": "display_data"
    }
   ],
   "source": [
    "sns.countplot(x=df['Title'])"
   ]
  },
  {
   "cell_type": "code",
   "execution_count": 42,
   "id": "4f09635f",
   "metadata": {},
   "outputs": [],
   "source": [
    "df['Age']=df['Age'].fillna(df.groupby('Title')['Age'].transform('median'))#Boş veri doldurma"
   ]
  },
  {
   "cell_type": "code",
   "execution_count": 43,
   "id": "027ce6df",
   "metadata": {},
   "outputs": [
    {
     "data": {
      "text/plain": [
       "PassengerId      0\n",
       "Survived       418\n",
       "Pclass           0\n",
       "Name             0\n",
       "Sex              0\n",
       "Age              0\n",
       "SibSp            0\n",
       "Parch            0\n",
       "Ticket           0\n",
       "Fare             0\n",
       "Embarked         0\n",
       "Title            0\n",
       "dtype: int64"
      ]
     },
     "execution_count": 43,
     "metadata": {},
     "output_type": "execute_result"
    }
   ],
   "source": [
    "df.isnull().sum()"
   ]
  },
  {
   "cell_type": "code",
   "execution_count": 44,
   "id": "1c6bdc57",
   "metadata": {},
   "outputs": [
    {
     "data": {
      "text/plain": [
       "Title\n",
       "Master     4.0\n",
       "Miss      22.0\n",
       "Mr        30.0\n",
       "Mrs       35.5\n",
       "Name: Age, dtype: float64"
      ]
     },
     "execution_count": 44,
     "metadata": {},
     "output_type": "execute_result"
    }
   ],
   "source": [
    "df.groupby('Title')['Age'].median() #median ortalaması alır"
   ]
  },
  {
   "cell_type": "code",
   "execution_count": 45,
   "id": "55eeee4c",
   "metadata": {},
   "outputs": [],
   "source": [
    "df['Family']=df['SibSp']+df['Parch']+1 #Aile bireyleri sayısını topladık"
   ]
  },
  {
   "cell_type": "code",
   "execution_count": 46,
   "id": "a5081983",
   "metadata": {},
   "outputs": [
    {
     "data": {
      "text/html": [
       "<div>\n",
       "<style scoped>\n",
       "    .dataframe tbody tr th:only-of-type {\n",
       "        vertical-align: middle;\n",
       "    }\n",
       "\n",
       "    .dataframe tbody tr th {\n",
       "        vertical-align: top;\n",
       "    }\n",
       "\n",
       "    .dataframe thead th {\n",
       "        text-align: right;\n",
       "    }\n",
       "</style>\n",
       "<table border=\"1\" class=\"dataframe\">\n",
       "  <thead>\n",
       "    <tr style=\"text-align: right;\">\n",
       "      <th></th>\n",
       "      <th>PassengerId</th>\n",
       "      <th>Survived</th>\n",
       "      <th>Pclass</th>\n",
       "      <th>Name</th>\n",
       "      <th>Sex</th>\n",
       "      <th>Age</th>\n",
       "      <th>SibSp</th>\n",
       "      <th>Parch</th>\n",
       "      <th>Ticket</th>\n",
       "      <th>Fare</th>\n",
       "      <th>Embarked</th>\n",
       "      <th>Title</th>\n",
       "      <th>Family</th>\n",
       "    </tr>\n",
       "  </thead>\n",
       "  <tbody>\n",
       "    <tr>\n",
       "      <th>0</th>\n",
       "      <td>1</td>\n",
       "      <td>0.0</td>\n",
       "      <td>3</td>\n",
       "      <td>Braund, Mr. Owen Harris</td>\n",
       "      <td>male</td>\n",
       "      <td>22.0</td>\n",
       "      <td>1</td>\n",
       "      <td>0</td>\n",
       "      <td>A/5 21171</td>\n",
       "      <td>7.2500</td>\n",
       "      <td>S</td>\n",
       "      <td>Mr</td>\n",
       "      <td>2</td>\n",
       "    </tr>\n",
       "    <tr>\n",
       "      <th>1</th>\n",
       "      <td>2</td>\n",
       "      <td>1.0</td>\n",
       "      <td>1</td>\n",
       "      <td>Cumings, Mrs. John Bradley (Florence Briggs Th...</td>\n",
       "      <td>female</td>\n",
       "      <td>38.0</td>\n",
       "      <td>1</td>\n",
       "      <td>0</td>\n",
       "      <td>PC 17599</td>\n",
       "      <td>71.2833</td>\n",
       "      <td>C</td>\n",
       "      <td>Mrs</td>\n",
       "      <td>2</td>\n",
       "    </tr>\n",
       "    <tr>\n",
       "      <th>2</th>\n",
       "      <td>3</td>\n",
       "      <td>1.0</td>\n",
       "      <td>3</td>\n",
       "      <td>Heikkinen, Miss. Laina</td>\n",
       "      <td>female</td>\n",
       "      <td>26.0</td>\n",
       "      <td>0</td>\n",
       "      <td>0</td>\n",
       "      <td>STON/O2. 3101282</td>\n",
       "      <td>7.9250</td>\n",
       "      <td>S</td>\n",
       "      <td>Miss</td>\n",
       "      <td>1</td>\n",
       "    </tr>\n",
       "    <tr>\n",
       "      <th>3</th>\n",
       "      <td>4</td>\n",
       "      <td>1.0</td>\n",
       "      <td>1</td>\n",
       "      <td>Futrelle, Mrs. Jacques Heath (Lily May Peel)</td>\n",
       "      <td>female</td>\n",
       "      <td>35.0</td>\n",
       "      <td>1</td>\n",
       "      <td>0</td>\n",
       "      <td>113803</td>\n",
       "      <td>53.1000</td>\n",
       "      <td>S</td>\n",
       "      <td>Mrs</td>\n",
       "      <td>2</td>\n",
       "    </tr>\n",
       "    <tr>\n",
       "      <th>4</th>\n",
       "      <td>5</td>\n",
       "      <td>0.0</td>\n",
       "      <td>3</td>\n",
       "      <td>Allen, Mr. William Henry</td>\n",
       "      <td>male</td>\n",
       "      <td>35.0</td>\n",
       "      <td>0</td>\n",
       "      <td>0</td>\n",
       "      <td>373450</td>\n",
       "      <td>8.0500</td>\n",
       "      <td>S</td>\n",
       "      <td>Mr</td>\n",
       "      <td>1</td>\n",
       "    </tr>\n",
       "  </tbody>\n",
       "</table>\n",
       "</div>"
      ],
      "text/plain": [
       "   PassengerId  Survived  Pclass  \\\n",
       "0            1       0.0       3   \n",
       "1            2       1.0       1   \n",
       "2            3       1.0       3   \n",
       "3            4       1.0       1   \n",
       "4            5       0.0       3   \n",
       "\n",
       "                                                Name     Sex   Age  SibSp  \\\n",
       "0                            Braund, Mr. Owen Harris    male  22.0      1   \n",
       "1  Cumings, Mrs. John Bradley (Florence Briggs Th...  female  38.0      1   \n",
       "2                             Heikkinen, Miss. Laina  female  26.0      0   \n",
       "3       Futrelle, Mrs. Jacques Heath (Lily May Peel)  female  35.0      1   \n",
       "4                           Allen, Mr. William Henry    male  35.0      0   \n",
       "\n",
       "   Parch            Ticket     Fare Embarked Title  Family  \n",
       "0      0         A/5 21171   7.2500        S    Mr       2  \n",
       "1      0          PC 17599  71.2833        C   Mrs       2  \n",
       "2      0  STON/O2. 3101282   7.9250        S  Miss       1  \n",
       "3      0            113803  53.1000        S   Mrs       2  \n",
       "4      0            373450   8.0500        S    Mr       1  "
      ]
     },
     "execution_count": 46,
     "metadata": {},
     "output_type": "execute_result"
    }
   ],
   "source": [
    "df.head()"
   ]
  },
  {
   "cell_type": "code",
   "execution_count": 47,
   "id": "3ca5337f",
   "metadata": {},
   "outputs": [],
   "source": [
    "del df['Name']\n",
    "del df['PassengerId']\n",
    "del df['Ticket']"
   ]
  },
  {
   "cell_type": "code",
   "execution_count": 48,
   "id": "7a7312c4",
   "metadata": {},
   "outputs": [
    {
     "data": {
      "text/html": [
       "<div>\n",
       "<style scoped>\n",
       "    .dataframe tbody tr th:only-of-type {\n",
       "        vertical-align: middle;\n",
       "    }\n",
       "\n",
       "    .dataframe tbody tr th {\n",
       "        vertical-align: top;\n",
       "    }\n",
       "\n",
       "    .dataframe thead th {\n",
       "        text-align: right;\n",
       "    }\n",
       "</style>\n",
       "<table border=\"1\" class=\"dataframe\">\n",
       "  <thead>\n",
       "    <tr style=\"text-align: right;\">\n",
       "      <th></th>\n",
       "      <th>Survived</th>\n",
       "      <th>Pclass</th>\n",
       "      <th>Sex</th>\n",
       "      <th>Age</th>\n",
       "      <th>SibSp</th>\n",
       "      <th>Parch</th>\n",
       "      <th>Fare</th>\n",
       "      <th>Embarked</th>\n",
       "      <th>Title</th>\n",
       "      <th>Family</th>\n",
       "    </tr>\n",
       "  </thead>\n",
       "  <tbody>\n",
       "    <tr>\n",
       "      <th>0</th>\n",
       "      <td>0.0</td>\n",
       "      <td>3</td>\n",
       "      <td>male</td>\n",
       "      <td>22.0</td>\n",
       "      <td>1</td>\n",
       "      <td>0</td>\n",
       "      <td>7.25</td>\n",
       "      <td>S</td>\n",
       "      <td>Mr</td>\n",
       "      <td>2</td>\n",
       "    </tr>\n",
       "  </tbody>\n",
       "</table>\n",
       "</div>"
      ],
      "text/plain": [
       "   Survived  Pclass   Sex   Age  SibSp  Parch  Fare Embarked Title  Family\n",
       "0       0.0       3  male  22.0      1      0  7.25        S    Mr       2"
      ]
     },
     "execution_count": 48,
     "metadata": {},
     "output_type": "execute_result"
    }
   ],
   "source": [
    "df.head(1)"
   ]
  },
  {
   "cell_type": "code",
   "execution_count": 47,
   "id": "850a764b",
   "metadata": {},
   "outputs": [],
   "source": [
    "data=pd.get_dummies(df,drop_first=True)"
   ]
  },
  {
   "cell_type": "code",
   "execution_count": 48,
   "id": "505752d0",
   "metadata": {},
   "outputs": [
    {
     "data": {
      "text/html": [
       "<div>\n",
       "<style scoped>\n",
       "    .dataframe tbody tr th:only-of-type {\n",
       "        vertical-align: middle;\n",
       "    }\n",
       "\n",
       "    .dataframe tbody tr th {\n",
       "        vertical-align: top;\n",
       "    }\n",
       "\n",
       "    .dataframe thead th {\n",
       "        text-align: right;\n",
       "    }\n",
       "</style>\n",
       "<table border=\"1\" class=\"dataframe\">\n",
       "  <thead>\n",
       "    <tr style=\"text-align: right;\">\n",
       "      <th></th>\n",
       "      <th>Survived</th>\n",
       "      <th>Pclass</th>\n",
       "      <th>Age</th>\n",
       "      <th>SibSp</th>\n",
       "      <th>Parch</th>\n",
       "      <th>Fare</th>\n",
       "      <th>Family</th>\n",
       "      <th>Sex_male</th>\n",
       "      <th>Embarked_Q</th>\n",
       "      <th>Embarked_S</th>\n",
       "      <th>Title_Miss</th>\n",
       "      <th>Title_Mr</th>\n",
       "      <th>Title_Mrs</th>\n",
       "    </tr>\n",
       "  </thead>\n",
       "  <tbody>\n",
       "    <tr>\n",
       "      <th>0</th>\n",
       "      <td>0.0</td>\n",
       "      <td>3</td>\n",
       "      <td>22.0</td>\n",
       "      <td>1</td>\n",
       "      <td>0</td>\n",
       "      <td>7.2500</td>\n",
       "      <td>2</td>\n",
       "      <td>1</td>\n",
       "      <td>0</td>\n",
       "      <td>1</td>\n",
       "      <td>0</td>\n",
       "      <td>1</td>\n",
       "      <td>0</td>\n",
       "    </tr>\n",
       "    <tr>\n",
       "      <th>1</th>\n",
       "      <td>1.0</td>\n",
       "      <td>1</td>\n",
       "      <td>38.0</td>\n",
       "      <td>1</td>\n",
       "      <td>0</td>\n",
       "      <td>71.2833</td>\n",
       "      <td>2</td>\n",
       "      <td>0</td>\n",
       "      <td>0</td>\n",
       "      <td>0</td>\n",
       "      <td>0</td>\n",
       "      <td>0</td>\n",
       "      <td>1</td>\n",
       "    </tr>\n",
       "    <tr>\n",
       "      <th>2</th>\n",
       "      <td>1.0</td>\n",
       "      <td>3</td>\n",
       "      <td>26.0</td>\n",
       "      <td>0</td>\n",
       "      <td>0</td>\n",
       "      <td>7.9250</td>\n",
       "      <td>1</td>\n",
       "      <td>0</td>\n",
       "      <td>0</td>\n",
       "      <td>1</td>\n",
       "      <td>1</td>\n",
       "      <td>0</td>\n",
       "      <td>0</td>\n",
       "    </tr>\n",
       "    <tr>\n",
       "      <th>3</th>\n",
       "      <td>1.0</td>\n",
       "      <td>1</td>\n",
       "      <td>35.0</td>\n",
       "      <td>1</td>\n",
       "      <td>0</td>\n",
       "      <td>53.1000</td>\n",
       "      <td>2</td>\n",
       "      <td>0</td>\n",
       "      <td>0</td>\n",
       "      <td>1</td>\n",
       "      <td>0</td>\n",
       "      <td>0</td>\n",
       "      <td>1</td>\n",
       "    </tr>\n",
       "    <tr>\n",
       "      <th>4</th>\n",
       "      <td>0.0</td>\n",
       "      <td>3</td>\n",
       "      <td>35.0</td>\n",
       "      <td>0</td>\n",
       "      <td>0</td>\n",
       "      <td>8.0500</td>\n",
       "      <td>1</td>\n",
       "      <td>1</td>\n",
       "      <td>0</td>\n",
       "      <td>1</td>\n",
       "      <td>0</td>\n",
       "      <td>1</td>\n",
       "      <td>0</td>\n",
       "    </tr>\n",
       "  </tbody>\n",
       "</table>\n",
       "</div>"
      ],
      "text/plain": [
       "   Survived  Pclass   Age  SibSp  Parch     Fare  Family  Sex_male  \\\n",
       "0       0.0       3  22.0      1      0   7.2500       2         1   \n",
       "1       1.0       1  38.0      1      0  71.2833       2         0   \n",
       "2       1.0       3  26.0      0      0   7.9250       1         0   \n",
       "3       1.0       1  35.0      1      0  53.1000       2         0   \n",
       "4       0.0       3  35.0      0      0   8.0500       1         1   \n",
       "\n",
       "   Embarked_Q  Embarked_S  Title_Miss  Title_Mr  Title_Mrs  \n",
       "0           0           1           0         1          0  \n",
       "1           0           0           0         0          1  \n",
       "2           0           1           1         0          0  \n",
       "3           0           1           0         0          1  \n",
       "4           0           1           0         1          0  "
      ]
     },
     "execution_count": 48,
     "metadata": {},
     "output_type": "execute_result"
    }
   ],
   "source": [
    "data.head()"
   ]
  },
  {
   "cell_type": "code",
   "execution_count": 142,
   "id": "b598ee68",
   "metadata": {},
   "outputs": [],
   "source": [
    "del test['Parch']"
   ]
  },
  {
   "cell_type": "code",
   "execution_count": 143,
   "id": "9235ac25",
   "metadata": {},
   "outputs": [],
   "source": [
    "train=data[:891]\n",
    "test=data[891:]"
   ]
  },
  {
   "cell_type": "code",
   "execution_count": 144,
   "id": "edc042be",
   "metadata": {},
   "outputs": [],
   "source": [
    "x=train.drop('Survived', axis=1)\n",
    "y=train['Survived']"
   ]
  },
  {
   "cell_type": "code",
   "execution_count": 145,
   "id": "6e253a5f",
   "metadata": {},
   "outputs": [],
   "source": [
    "from sklearn.naive_bayes import GaussianNB, BernoulliNB\n",
    "from sklearn.tree import DecisionTreeClassifier\n",
    "from sklearn.linear_model import LinearRegression\n",
    "from sklearn.linear_model import Ridge, Lasso, ElasticNet\n",
    "from sklearn.metrics import r2_score, mean_squared_error\n",
    "from sklearn.ensemble import RandomForestClassifier\n",
    "from sklearn.ensemble import GradientBoostingClassifier"
   ]
  },
  {
   "cell_type": "code",
   "execution_count": 146,
   "id": "a259062b",
   "metadata": {},
   "outputs": [],
   "source": [
    "d=DecisionTreeClassifier() #74\n",
    "lr = LinearRegression()\n",
    "R=Ridge()\n",
    "L=Lasso()\n",
    "gnb=GaussianNB() #Bunu Kullanarak 0.76076 Aldım\n",
    "bnb=BernoulliNB() #Bunu Kullanarak 0.77033 Aldım\n",
    "rnd=RandomForestClassifier()\n",
    "svc=SVC()\n",
    "gbx=GradientBoostingClassifier() #77751 - Şuana kadar en yüksek"
   ]
  },
  {
   "cell_type": "code",
   "execution_count": 147,
   "id": "b445faba",
   "metadata": {},
   "outputs": [],
   "source": [
    "model=gbx.fit(x,y)"
   ]
  },
  {
   "cell_type": "code",
   "execution_count": 155,
   "id": "ef2cff03",
   "metadata": {},
   "outputs": [],
   "source": [
    "#del test['Survived']"
   ]
  },
  {
   "cell_type": "code",
   "execution_count": 156,
   "id": "641236da",
   "metadata": {},
   "outputs": [],
   "source": [
    "tahmin=model.predict(test)"
   ]
  },
  {
   "cell_type": "code",
   "execution_count": 157,
   "id": "b1226f6b",
   "metadata": {},
   "outputs": [],
   "source": [
    "sonuc=df2[[\"PassengerId\"]]"
   ]
  },
  {
   "cell_type": "code",
   "execution_count": 158,
   "id": "b92674de",
   "metadata": {},
   "outputs": [
    {
     "name": "stderr",
     "output_type": "stream",
     "text": [
      "C:\\Users\\telha\\AppData\\Local\\Temp\\ipykernel_12400\\2725349856.py:1: SettingWithCopyWarning: \n",
      "A value is trying to be set on a copy of a slice from a DataFrame.\n",
      "Try using .loc[row_indexer,col_indexer] = value instead\n",
      "\n",
      "See the caveats in the documentation: https://pandas.pydata.org/pandas-docs/stable/user_guide/indexing.html#returning-a-view-versus-a-copy\n",
      "  sonuc['Survived']=tahmin\n"
     ]
    }
   ],
   "source": [
    "sonuc['Survived']=tahmin"
   ]
  },
  {
   "cell_type": "code",
   "execution_count": 159,
   "id": "2cfa5387",
   "metadata": {},
   "outputs": [
    {
     "name": "stderr",
     "output_type": "stream",
     "text": [
      "C:\\Users\\telha\\AppData\\Local\\Temp\\ipykernel_12400\\4133876439.py:1: SettingWithCopyWarning: \n",
      "A value is trying to be set on a copy of a slice from a DataFrame.\n",
      "Try using .loc[row_indexer,col_indexer] = value instead\n",
      "\n",
      "See the caveats in the documentation: https://pandas.pydata.org/pandas-docs/stable/user_guide/indexing.html#returning-a-view-versus-a-copy\n",
      "  sonuc['Survived']=sonuc['Survived']\n"
     ]
    }
   ],
   "source": [
    "sonuc['Survived']=sonuc['Survived']"
   ]
  },
  {
   "cell_type": "code",
   "execution_count": 160,
   "id": "86ea8644",
   "metadata": {
    "scrolled": true
   },
   "outputs": [
    {
     "data": {
      "text/html": [
       "<div>\n",
       "<style scoped>\n",
       "    .dataframe tbody tr th:only-of-type {\n",
       "        vertical-align: middle;\n",
       "    }\n",
       "\n",
       "    .dataframe tbody tr th {\n",
       "        vertical-align: top;\n",
       "    }\n",
       "\n",
       "    .dataframe thead th {\n",
       "        text-align: right;\n",
       "    }\n",
       "</style>\n",
       "<table border=\"1\" class=\"dataframe\">\n",
       "  <thead>\n",
       "    <tr style=\"text-align: right;\">\n",
       "      <th></th>\n",
       "      <th>PassengerId</th>\n",
       "      <th>Survived</th>\n",
       "    </tr>\n",
       "  </thead>\n",
       "  <tbody>\n",
       "    <tr>\n",
       "      <th>0</th>\n",
       "      <td>892</td>\n",
       "      <td>0.0</td>\n",
       "    </tr>\n",
       "    <tr>\n",
       "      <th>1</th>\n",
       "      <td>893</td>\n",
       "      <td>0.0</td>\n",
       "    </tr>\n",
       "    <tr>\n",
       "      <th>2</th>\n",
       "      <td>894</td>\n",
       "      <td>0.0</td>\n",
       "    </tr>\n",
       "    <tr>\n",
       "      <th>3</th>\n",
       "      <td>895</td>\n",
       "      <td>0.0</td>\n",
       "    </tr>\n",
       "    <tr>\n",
       "      <th>4</th>\n",
       "      <td>896</td>\n",
       "      <td>1.0</td>\n",
       "    </tr>\n",
       "    <tr>\n",
       "      <th>5</th>\n",
       "      <td>897</td>\n",
       "      <td>0.0</td>\n",
       "    </tr>\n",
       "    <tr>\n",
       "      <th>6</th>\n",
       "      <td>898</td>\n",
       "      <td>0.0</td>\n",
       "    </tr>\n",
       "    <tr>\n",
       "      <th>7</th>\n",
       "      <td>899</td>\n",
       "      <td>0.0</td>\n",
       "    </tr>\n",
       "    <tr>\n",
       "      <th>8</th>\n",
       "      <td>900</td>\n",
       "      <td>1.0</td>\n",
       "    </tr>\n",
       "    <tr>\n",
       "      <th>9</th>\n",
       "      <td>901</td>\n",
       "      <td>0.0</td>\n",
       "    </tr>\n",
       "    <tr>\n",
       "      <th>10</th>\n",
       "      <td>902</td>\n",
       "      <td>0.0</td>\n",
       "    </tr>\n",
       "    <tr>\n",
       "      <th>11</th>\n",
       "      <td>903</td>\n",
       "      <td>0.0</td>\n",
       "    </tr>\n",
       "    <tr>\n",
       "      <th>12</th>\n",
       "      <td>904</td>\n",
       "      <td>1.0</td>\n",
       "    </tr>\n",
       "    <tr>\n",
       "      <th>13</th>\n",
       "      <td>905</td>\n",
       "      <td>0.0</td>\n",
       "    </tr>\n",
       "    <tr>\n",
       "      <th>14</th>\n",
       "      <td>906</td>\n",
       "      <td>1.0</td>\n",
       "    </tr>\n",
       "    <tr>\n",
       "      <th>15</th>\n",
       "      <td>907</td>\n",
       "      <td>1.0</td>\n",
       "    </tr>\n",
       "    <tr>\n",
       "      <th>16</th>\n",
       "      <td>908</td>\n",
       "      <td>0.0</td>\n",
       "    </tr>\n",
       "    <tr>\n",
       "      <th>17</th>\n",
       "      <td>909</td>\n",
       "      <td>0.0</td>\n",
       "    </tr>\n",
       "    <tr>\n",
       "      <th>18</th>\n",
       "      <td>910</td>\n",
       "      <td>1.0</td>\n",
       "    </tr>\n",
       "    <tr>\n",
       "      <th>19</th>\n",
       "      <td>911</td>\n",
       "      <td>1.0</td>\n",
       "    </tr>\n",
       "  </tbody>\n",
       "</table>\n",
       "</div>"
      ],
      "text/plain": [
       "    PassengerId  Survived\n",
       "0           892       0.0\n",
       "1           893       0.0\n",
       "2           894       0.0\n",
       "3           895       0.0\n",
       "4           896       1.0\n",
       "5           897       0.0\n",
       "6           898       0.0\n",
       "7           899       0.0\n",
       "8           900       1.0\n",
       "9           901       0.0\n",
       "10          902       0.0\n",
       "11          903       0.0\n",
       "12          904       1.0\n",
       "13          905       0.0\n",
       "14          906       1.0\n",
       "15          907       1.0\n",
       "16          908       0.0\n",
       "17          909       0.0\n",
       "18          910       1.0\n",
       "19          911       1.0"
      ]
     },
     "execution_count": 160,
     "metadata": {},
     "output_type": "execute_result"
    }
   ],
   "source": [
    "sonuc.head(20)"
   ]
  },
  {
   "cell_type": "code",
   "execution_count": 161,
   "id": "2b995b68",
   "metadata": {},
   "outputs": [
    {
     "name": "stderr",
     "output_type": "stream",
     "text": [
      "C:\\Users\\telha\\AppData\\Local\\Temp\\ipykernel_12400\\4182812462.py:1: SettingWithCopyWarning: \n",
      "A value is trying to be set on a copy of a slice from a DataFrame.\n",
      "Try using .loc[row_indexer,col_indexer] = value instead\n",
      "\n",
      "See the caveats in the documentation: https://pandas.pydata.org/pandas-docs/stable/user_guide/indexing.html#returning-a-view-versus-a-copy\n",
      "  sonuc['Survived']=sonuc['Survived'].astype('int64')\n"
     ]
    }
   ],
   "source": [
    "sonuc['Survived']=sonuc['Survived'].astype('int64')"
   ]
  },
  {
   "cell_type": "code",
   "execution_count": 162,
   "id": "d4757f09",
   "metadata": {
    "scrolled": true
   },
   "outputs": [
    {
     "data": {
      "text/html": [
       "<div>\n",
       "<style scoped>\n",
       "    .dataframe tbody tr th:only-of-type {\n",
       "        vertical-align: middle;\n",
       "    }\n",
       "\n",
       "    .dataframe tbody tr th {\n",
       "        vertical-align: top;\n",
       "    }\n",
       "\n",
       "    .dataframe thead th {\n",
       "        text-align: right;\n",
       "    }\n",
       "</style>\n",
       "<table border=\"1\" class=\"dataframe\">\n",
       "  <thead>\n",
       "    <tr style=\"text-align: right;\">\n",
       "      <th></th>\n",
       "      <th>PassengerId</th>\n",
       "      <th>Survived</th>\n",
       "    </tr>\n",
       "  </thead>\n",
       "  <tbody>\n",
       "    <tr>\n",
       "      <th>0</th>\n",
       "      <td>892</td>\n",
       "      <td>0</td>\n",
       "    </tr>\n",
       "    <tr>\n",
       "      <th>1</th>\n",
       "      <td>893</td>\n",
       "      <td>0</td>\n",
       "    </tr>\n",
       "    <tr>\n",
       "      <th>2</th>\n",
       "      <td>894</td>\n",
       "      <td>0</td>\n",
       "    </tr>\n",
       "    <tr>\n",
       "      <th>3</th>\n",
       "      <td>895</td>\n",
       "      <td>0</td>\n",
       "    </tr>\n",
       "    <tr>\n",
       "      <th>4</th>\n",
       "      <td>896</td>\n",
       "      <td>1</td>\n",
       "    </tr>\n",
       "    <tr>\n",
       "      <th>5</th>\n",
       "      <td>897</td>\n",
       "      <td>0</td>\n",
       "    </tr>\n",
       "    <tr>\n",
       "      <th>6</th>\n",
       "      <td>898</td>\n",
       "      <td>0</td>\n",
       "    </tr>\n",
       "    <tr>\n",
       "      <th>7</th>\n",
       "      <td>899</td>\n",
       "      <td>0</td>\n",
       "    </tr>\n",
       "    <tr>\n",
       "      <th>8</th>\n",
       "      <td>900</td>\n",
       "      <td>1</td>\n",
       "    </tr>\n",
       "    <tr>\n",
       "      <th>9</th>\n",
       "      <td>901</td>\n",
       "      <td>0</td>\n",
       "    </tr>\n",
       "    <tr>\n",
       "      <th>10</th>\n",
       "      <td>902</td>\n",
       "      <td>0</td>\n",
       "    </tr>\n",
       "    <tr>\n",
       "      <th>11</th>\n",
       "      <td>903</td>\n",
       "      <td>0</td>\n",
       "    </tr>\n",
       "    <tr>\n",
       "      <th>12</th>\n",
       "      <td>904</td>\n",
       "      <td>1</td>\n",
       "    </tr>\n",
       "    <tr>\n",
       "      <th>13</th>\n",
       "      <td>905</td>\n",
       "      <td>0</td>\n",
       "    </tr>\n",
       "    <tr>\n",
       "      <th>14</th>\n",
       "      <td>906</td>\n",
       "      <td>1</td>\n",
       "    </tr>\n",
       "    <tr>\n",
       "      <th>15</th>\n",
       "      <td>907</td>\n",
       "      <td>1</td>\n",
       "    </tr>\n",
       "    <tr>\n",
       "      <th>16</th>\n",
       "      <td>908</td>\n",
       "      <td>0</td>\n",
       "    </tr>\n",
       "    <tr>\n",
       "      <th>17</th>\n",
       "      <td>909</td>\n",
       "      <td>0</td>\n",
       "    </tr>\n",
       "    <tr>\n",
       "      <th>18</th>\n",
       "      <td>910</td>\n",
       "      <td>1</td>\n",
       "    </tr>\n",
       "    <tr>\n",
       "      <th>19</th>\n",
       "      <td>911</td>\n",
       "      <td>1</td>\n",
       "    </tr>\n",
       "  </tbody>\n",
       "</table>\n",
       "</div>"
      ],
      "text/plain": [
       "    PassengerId  Survived\n",
       "0           892         0\n",
       "1           893         0\n",
       "2           894         0\n",
       "3           895         0\n",
       "4           896         1\n",
       "5           897         0\n",
       "6           898         0\n",
       "7           899         0\n",
       "8           900         1\n",
       "9           901         0\n",
       "10          902         0\n",
       "11          903         0\n",
       "12          904         1\n",
       "13          905         0\n",
       "14          906         1\n",
       "15          907         1\n",
       "16          908         0\n",
       "17          909         0\n",
       "18          910         1\n",
       "19          911         1"
      ]
     },
     "execution_count": 162,
     "metadata": {},
     "output_type": "execute_result"
    }
   ],
   "source": [
    "sonuc.head(20)"
   ]
  },
  {
   "cell_type": "code",
   "execution_count": 163,
   "id": "71d5cb4e",
   "metadata": {},
   "outputs": [],
   "source": [
    "sonuc.to_csv('Titanic_tahmin.csv',index=False)"
   ]
  },
 ],
 "metadata": {
  "kernelspec": {
   "display_name": "Python 3 (ipykernel)",
   "language": "python",
   "name": "python3"
  },
  "language_info": {
   "codemirror_mode": {
    "name": "ipython",
    "version": 3
   },
   "file_extension": ".py",
   "mimetype": "text/x-python",
   "name": "python",
   "nbconvert_exporter": "python",
   "pygments_lexer": "ipython3",
   "version": "3.11.4"
  }
 },
 "nbformat": 4,
 "nbformat_minor": 5
}
